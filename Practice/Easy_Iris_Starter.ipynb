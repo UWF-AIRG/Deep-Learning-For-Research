{
  "nbformat": 4,
  "nbformat_minor": 0,
  "metadata": {
    "colab": {
      "name": "Easy: Iris_Starter.ipynb",
      "version": "0.3.2",
      "provenance": []
    },
    "kernelspec": {
      "name": "python3",
      "display_name": "Python 3"
    },
    "accelerator": "GPU"
  },
  "cells": [
    {
      "cell_type": "markdown",
      "metadata": {
        "id": "D6EAY3LqutxR",
        "colab_type": "text"
      },
      "source": [
        "# Iris - A simple small dataset\n",
        "\n",
        "\"The Iris Flowers Dataset involves predicting the flower species given measurements of iris flowers.\n",
        "\n",
        "It is a multi-class classification problem. The number of observations for each class is balanced. There are 150 observations with 4 input variables and 1 output variable. The variable names are as follows:\n",
        "\n",
        "1. Sepal length in cm.\n",
        "2. Sepal width in cm.\n",
        "3. Petal length in cm.\n",
        "4. Petal width in cm.\n",
        "5. Class (Iris Setosa, Iris Versicolour, Iris Virginica).\n",
        "\n",
        "The baseline performance of predicting the most prevalent class is a classification accuracy of approximately 26%.\"\n",
        "\n",
        "I have attached some starter code below, with my highest accuracy at the bottom. See if you can get to it, if not beat it!"
      ]
    },
    {
      "cell_type": "markdown",
      "metadata": {
        "id": "obJslte234qi",
        "colab_type": "text"
      },
      "source": [
        "# Get Data"
      ]
    },
    {
      "cell_type": "markdown",
      "metadata": {
        "id": "vA1VCmE83777",
        "colab_type": "text"
      },
      "source": [
        "All I will include here is the libraries we are using. (A few hints: you can read in a .data to pandas through .csv. Figure out how to make it skip the header though. Also, feature engineering will come in handy here. Be creative. You have measurements. Try anything.)"
      ]
    },
    {
      "cell_type": "code",
      "metadata": {
        "id": "PzGMPr0EusN9",
        "colab_type": "code",
        "colab": {}
      },
      "source": [
        "!wget http://archive.ics.uci.edu/ml/machine-learning-databases/iris/iris.data"
      ],
      "execution_count": 0,
      "outputs": []
    },
    {
      "cell_type": "code",
      "metadata": {
        "id": "sMQ_wWwrvfSn",
        "colab_type": "code",
        "colab": {}
      },
      "source": [
        "import pandas as pd\n",
        "from fastai import *\n",
        "from fastai.tabular import *"
      ],
      "execution_count": 0,
      "outputs": []
    },
    {
      "cell_type": "markdown",
      "metadata": {
        "id": "wjK-lVW131b2",
        "colab_type": "text"
      },
      "source": [
        "# Training"
      ]
    },
    {
      "cell_type": "code",
      "metadata": {
        "id": "5igHE9qp6SLd",
        "colab_type": "code",
        "colab": {}
      },
      "source": [
        "from sklearn.model_selection import train_test_split\n",
        "train, test = train_test_split(df, test_size=0.1)"
      ],
      "execution_count": 0,
      "outputs": []
    },
    {
      "cell_type": "markdown",
      "metadata": {
        "id": "igA7KgdL32l_",
        "colab_type": "text"
      },
      "source": [
        "# Results"
      ]
    },
    {
      "cell_type": "markdown",
      "metadata": {
        "id": "iWp4zk3t3l77",
        "colab_type": "text"
      },
      "source": [
        "Run the following function to get your overall average results out of ten runs on the test set. My best was 61%"
      ]
    },
    {
      "cell_type": "code",
      "metadata": {
        "id": "uutdCaEO20k1",
        "colab_type": "code",
        "colab": {}
      },
      "source": [
        "def getAvg(learn:Learner, test_df:DataFrame):\n",
        "  val = 0\n",
        "  arr = []\n",
        "  cat_vars = learn.data.train_dl.x.cat_names\n",
        "  cont_vars = learn.data.train_dl.x.cont_names\n",
        "  dep_var = 'Class'\n",
        "  data_test = (TabularList.from_df(test_df, cat_vars, cont_vars, procs=procs, processor=learn.data.processor)\n",
        "       .split_none()\n",
        "       .label_from_df(dep_var)\n",
        "       .databunch(bs=10))\n",
        "  learn.data.valid_dl = data_test.train_dl\n",
        "  for x in range(10):\n",
        "    arr.append(float(learn.validate()[1]))\n",
        "  for x in range(len(arr)):\n",
        "    val = val + arr[x]\n",
        "  return print(f'My Average Accuracy: {val/10}')"
      ],
      "execution_count": 0,
      "outputs": []
    },
    {
      "cell_type": "code",
      "metadata": {
        "id": "QiJvjHby3hbo",
        "colab_type": "code",
        "colab": {
          "base_uri": "https://localhost:8080/",
          "height": 34
        },
        "outputId": "16dac54f-1720-4ea0-e7e7-5ae26af9c8a9"
      },
      "source": [
        "getAvg(learn, test)"
      ],
      "execution_count": 41,
      "outputs": [
        {
          "output_type": "stream",
          "text": [
            "My Average Accuracy:0.610000005364418\n"
          ],
          "name": "stdout"
        }
      ]
    }
  ]
}