{
  "nbformat": 4,
  "nbformat_minor": 0,
  "metadata": {
    "colab": {
      "name": "Moderate: Wine.ipynb",
      "version": "0.3.2",
      "provenance": []
    },
    "kernelspec": {
      "name": "python3",
      "display_name": "Python 3"
    },
    "accelerator": "GPU"
  },
  "cells": [
    {
      "cell_type": "markdown",
      "metadata": {
        "id": "gzPqqGec5CWn",
        "colab_type": "text"
      },
      "source": [
        "# Wine\n",
        "\n",
        "This is a regression problem. There are 4,898 observations with 11 input variables and one output variable. The variable names are as follows:\n",
        "\n",
        "1. Fixed acidity.\n",
        "2. Volatile acidity.\n",
        "3. Citric acid.\n",
        "4. Residual sugar.\n",
        "5. Chlorides.\n",
        "6. Free sulfur dioxide.\n",
        "7. Total sulfur dioxide.\n",
        "8. Density.\n",
        "9. pH.\n",
        "10. Sulphates.\n",
        "11. Alcohol.\n",
        "12. Quality (score between 0 and 10).\n",
        "\n",
        "The overall performance is in RMSE."
      ]
    },
    {
      "cell_type": "markdown",
      "metadata": {
        "id": "zVKDkygi5e3W",
        "colab_type": "text"
      },
      "source": [
        "# Get Data"
      ]
    },
    {
      "cell_type": "code",
      "metadata": {
        "id": "qpS-fCoA44hO",
        "colab_type": "code",
        "colab": {
          "base_uri": "https://localhost:8080/",
          "height": 204
        },
        "outputId": "f8c6c85f-3f7c-443d-9c44-e2f03a859029"
      },
      "source": [
        "!wget http://archive.ics.uci.edu/ml/machine-learning-databases/wine-quality/winequality-white.csv"
      ],
      "execution_count": 1,
      "outputs": [
        {
          "output_type": "stream",
          "text": [
            "--2019-07-09 08:42:44--  http://archive.ics.uci.edu/ml/machine-learning-databases/wine-quality/winequality-white.csv\n",
            "Resolving archive.ics.uci.edu (archive.ics.uci.edu)... 128.195.10.252\n",
            "Connecting to archive.ics.uci.edu (archive.ics.uci.edu)|128.195.10.252|:80... connected.\n",
            "HTTP request sent, awaiting response... 200 OK\n",
            "Length: 264426 (258K) [application/x-httpd-php]\n",
            "Saving to: ‘winequality-white.csv’\n",
            "\n",
            "winequality-white.c 100%[===================>] 258.23K   464KB/s    in 0.6s    \n",
            "\n",
            "2019-07-09 08:42:45 (464 KB/s) - ‘winequality-white.csv’ saved [264426/264426]\n",
            "\n"
          ],
          "name": "stdout"
        }
      ]
    },
    {
      "cell_type": "markdown",
      "metadata": {
        "id": "K-OdhPGj56--",
        "colab_type": "text"
      },
      "source": [
        "# Training"
      ]
    },
    {
      "cell_type": "code",
      "metadata": {
        "id": "Q4es3Qo498sV",
        "colab_type": "code",
        "colab": {}
      },
      "source": [
        "from sklearn.model_selection import train_test_split\n",
        "train, test = train_test_split(df, test_size=0.1)"
      ],
      "execution_count": 0,
      "outputs": []
    },
    {
      "cell_type": "markdown",
      "metadata": {
        "id": "i_ZaY4GR8nkn",
        "colab_type": "text"
      },
      "source": [
        "# Results\n",
        "\n",
        "Run the following function to get your overall average results out of ten runs on the test set. My best was an RMSE value of 0.12995"
      ]
    },
    {
      "cell_type": "code",
      "metadata": {
        "id": "Q_Z8uIWV8PWQ",
        "colab_type": "code",
        "colab": {}
      },
      "source": [
        "def getAvg(learn:Learner, test_df:DataFrame):\n",
        "  val = 0\n",
        "  arr = []\n",
        "  cat_vars = learn.data.train_dl.x.cat_names\n",
        "  cont_vars = learn.data.train_dl.x.cont_names\n",
        "  dep_var = 'quality'\n",
        "  data_test = (TabularList.from_df(test, cat_names=[], cont_names=cont_vars, procs=[Normalize], processor=learn.data.processor)\n",
        "        .split_none()\n",
        "       .label_from_df(cols=dep_var, label_cls=FloatList, log=True)\n",
        "       .databunch())\n",
        "  learn.data.valid_dl = data_test.train_dl\n",
        "  for x in range(10):\n",
        "    arr.append(float(learn.validate()[1]))\n",
        "  for x in range(len(arr)):\n",
        "    val = val + arr[x]\n",
        "  return print(f'My Average RMSE: {val/10}')"
      ],
      "execution_count": 0,
      "outputs": []
    },
    {
      "cell_type": "code",
      "metadata": {
        "id": "d2LIpQuy8bQE",
        "colab_type": "code",
        "colab": {
          "base_uri": "https://localhost:8080/",
          "height": 34
        },
        "outputId": "bed297ca-59b6-438a-ac92-c2f9ae2ddcc7"
      },
      "source": [
        "getAvg(learn, test)"
      ],
      "execution_count": 42,
      "outputs": [
        {
          "output_type": "stream",
          "text": [
            "My Average RMSE:0.12995133250951768\n"
          ],
          "name": "stdout"
        }
      ]
    }
  ]
}