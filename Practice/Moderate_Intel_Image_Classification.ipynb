{
  "nbformat": 4,
  "nbformat_minor": 0,
  "metadata": {
    "colab": {
      "name": "Moderate: Intel Image Classification.ipynb",
      "version": "0.3.2",
      "provenance": [],
      "toc_visible": true
    },
    "kernelspec": {
      "name": "python3",
      "display_name": "Python 3"
    },
    "accelerator": "GPU"
  },
  "cells": [
    {
      "cell_type": "markdown",
      "metadata": {
        "id": "Yw4xr2EiF7aA",
        "colab_type": "text"
      },
      "source": [
        "# Intel Image Classification\n",
        "\n",
        "\"**Context**\n",
        "\n",
        "This is image data of Natural Scenes around the world.\n",
        "\n",
        "**Content**\n",
        "\n",
        "This Data contains around 25k images of size 150x150 distributed under 6 categories. {'buildings' -> 0, 'forest' -> 1, 'glacier' -> 2, 'mountain' -> 3, 'sea' -> 4, 'street' -> 5 }\n",
        "\n",
        "The Train, Test and Prediction data is separated in each zip files. There are around 14k images in Train, 3k in Test and 7k in Prediction. This data was initially published on https://datahack.analyticsvidhya.com by Intel to host a Image classification Challenge.\n",
        "\n",
        "**Acknowledgements**\n",
        "\n",
        "Thanks to https://datahack.analyticsvidhya.com for the challenge and Intel for the Data\n",
        "\n",
        "Photo by Jan Böttinger on Unsplash\""
      ]
    },
    {
      "cell_type": "markdown",
      "metadata": {
        "id": "ZhfA7TZwGKOx",
        "colab_type": "text"
      },
      "source": [
        "With this dataset, I want you to try to be able to identify one of five classes on a tiny image. The kaggle data is available here: https://www.kaggle.com/puneet6060/intel-image-classification\n",
        "\n",
        "You need to make a Kaggle account to download the data"
      ]
    },
    {
      "cell_type": "markdown",
      "metadata": {
        "id": "tR7crTYJJYDN",
        "colab_type": "text"
      },
      "source": [
        "# Get Data\n",
        "\n",
        "The following will set you up with a folder structure like so after you download the data and upload it to Google Colab:\n",
        "```\n",
        "-- images\n",
        "    -- train\n",
        "    -- valid\n",
        "    -- test\n",
        "```"
      ]
    },
    {
      "cell_type": "code",
      "metadata": {
        "id": "kdAOJMl4GrRh",
        "colab_type": "code",
        "colab": {}
      },
      "source": [
        "!unzip intel-image-classification.zip\n",
        "!unzip seg_train.zip\n",
        "!unzip seg_pred.zip\n",
        "!unzip seg_test.zip\n",
        "!mkdir images\n",
        "!cp -a ./seg_train ./images/train\n",
        "!cp -a ./seg_test ./images/valid\n",
        "!cp -a ./seg_pred ./images/test"
      ],
      "execution_count": 0,
      "outputs": []
    },
    {
      "cell_type": "markdown",
      "metadata": {
        "id": "-ZpW_oudJyXx",
        "colab_type": "text"
      },
      "source": [
        "# Train"
      ]
    },
    {
      "cell_type": "markdown",
      "metadata": {
        "id": "QRceVVXnQgyC",
        "colab_type": "text"
      },
      "source": [
        "Hint: ImageDataBunch can take a train, valid, and test folder: https://docs.fast.ai/vision.data.html#ImageDataBunch"
      ]
    },
    {
      "cell_type": "markdown",
      "metadata": {
        "id": "0drg4WLBSo8u",
        "colab_type": "text"
      },
      "source": [
        "# Results"
      ]
    },
    {
      "cell_type": "code",
      "metadata": {
        "id": "kSFNItPUPE3w",
        "colab_type": "code",
        "colab": {}
      },
      "source": [
        "def getAvg(learn:Learner):\n",
        "  val = 0\n",
        "  arr = []\n",
        "  for x in range(10):\n",
        "    arr.append(float(learn.validate()[1]))\n",
        "  for x in range(len(arr)):\n",
        "    val = val + arr[x]\n",
        "  return print(f'My Average Accuracy: {val/10}%')"
      ],
      "execution_count": 0,
      "outputs": []
    },
    {
      "cell_type": "code",
      "metadata": {
        "id": "20cwwNTVQTha",
        "colab_type": "code",
        "colab": {
          "base_uri": "https://localhost:8080/",
          "height": 34
        },
        "outputId": "7d4b3f8e-8bc4-4cfd-c626-b241ac77e427"
      },
      "source": [
        "getAvg(learn)"
      ],
      "execution_count": 29,
      "outputs": [
        {
          "output_type": "stream",
          "text": [
            "My Average Accuracy: 0.9326666593551636%\n"
          ],
          "name": "stdout"
        }
      ]
    }
  ]
}