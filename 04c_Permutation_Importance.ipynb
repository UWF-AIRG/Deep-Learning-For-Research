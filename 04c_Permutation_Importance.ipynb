{
  "nbformat": 4,
  "nbformat_minor": 0,
  "metadata": {
    "colab": {
      "name": "04_Feature_Engineering.ipynb",
      "version": "0.3.2",
      "provenance": [],
      "collapsed_sections": []
    },
    "kernelspec": {
      "name": "python3",
      "display_name": "Python 3"
    },
    "accelerator": "GPU"
  },
  "cells": [
    {
      "cell_type": "markdown",
      "metadata": {
        "id": "Xah7pO3JlKpx",
        "colab_type": "text"
      },
      "source": [
        "# Schedule\n",
        "\n",
        "|  | Monday 4-5:30pm | Friday  4-5:30pm |\n",
        "|:------:|:-------------------------------------------:|:--------------------------------------------------------------------------:|\n",
        "| **Week 1** | Introduction | Introduction |\n",
        "| **Week 2** | Custom computer vision tasks | State of the art in Computer Vision |\n",
        "| **Week 3** | Introduction to Tabular modeling and pandas | Pandas workshop and feature engineering |\n",
        "| **Week 4** | Tabular and Image Regression | **Feature importance and advanced feature  engineering** |\n",
        "| **Week 5** | Natural Language Processing | State of the art in NLP |\n",
        "| **Week 6** | Segmentation | Kaggle Introducion with Segmentation |\n",
        "| **Week 7** | Computer vision from scratch | NLP from scratch |\n",
        "| **Week 8** | Callbacks | Optimizers |\n",
        "| **Week 9** | Generative Adversarial Networks | Research time / presentations |\n",
        "| **Week 10** | Putting models into production | Putting models into production |"
      ]
    },
    {
      "cell_type": "markdown",
      "metadata": {
        "id": "uNJYgFkBlt90",
        "colab_type": "text"
      },
      "source": [
        "# Feature Importance\n",
        "\n",
        "## What is it?\n",
        "\n",
        "* A way to examine how particular variables or features are being used or the most helpful for a model\n",
        "\n",
        "## Why is it important?\n",
        "\n",
        "* Feature pruning\n",
        "* Can help explain our models\n",
        "\n",
        "## How do we do it?\n",
        "\n",
        "* Permutation importance\n",
        "* Measure the change in accuracy of a **fully trained model** on a seperate set\n",
        "\n",
        "For example, instead of our 70% Train, 20% Validation, 10% Test, we could now have:\n",
        "\n",
        "We have 10% Test, 10% Feature Importance, 64% Train, 16% Validation"
      ]
    },
    {
      "cell_type": "code",
      "metadata": {
        "id": "9oGN5YITxw9T",
        "colab_type": "code",
        "colab": {}
      },
      "source": [
        "from sklearn.model_selection import train_test_split"
      ],
      "execution_count": 0,
      "outputs": []
    },
    {
      "cell_type": "code",
      "metadata": {
        "id": "3mWRgCnno2as",
        "colab_type": "code",
        "colab": {}
      },
      "source": [
        "def create_sets(df:DataFrame, is_feat:bool):\n",
        "  train, test = train_test_split(df, test_size=0.1)\n",
        "  if is_feat: \n",
        "    train, feat = train_test_split(train, test_size=0.1)\n",
        "    return train, test, feat\n",
        "  else: return train, test"
      ],
      "execution_count": 0,
      "outputs": []
    },
    {
      "cell_type": "code",
      "metadata": {
        "id": "QNJF-q1Hk6v_",
        "colab_type": "code",
        "colab": {}
      },
      "source": [
        "from fastai.tabular import *"
      ],
      "execution_count": 0,
      "outputs": []
    },
    {
      "cell_type": "code",
      "metadata": {
        "id": "n40lLE1umVaT",
        "colab_type": "code",
        "colab": {}
      },
      "source": [
        "path = untar_data(URLs.ADULT_SAMPLE)"
      ],
      "execution_count": 0,
      "outputs": []
    },
    {
      "cell_type": "code",
      "metadata": {
        "id": "xJatTs45mZOr",
        "colab_type": "code",
        "colab": {}
      },
      "source": [
        "df = pd.read_csv(path/'adult.csv')"
      ],
      "execution_count": 0,
      "outputs": []
    },
    {
      "cell_type": "code",
      "metadata": {
        "id": "-CkIjY-wmccN",
        "colab_type": "code",
        "colab": {}
      },
      "source": [
        "dep_var = 'salary'\n",
        "cat_names = ['workclass', 'education', 'marital-status', 'occupation', 'relationship', 'race']\n",
        "cont_names = ['age', 'fnlwgt', 'education-num']"
      ],
      "execution_count": 0,
      "outputs": []
    },
    {
      "cell_type": "code",
      "metadata": {
        "id": "7ilon33hmdQk",
        "colab_type": "code",
        "colab": {}
      },
      "source": [
        "procs = [FillMissing, Categorify, Normalize]"
      ],
      "execution_count": 0,
      "outputs": []
    },
    {
      "cell_type": "code",
      "metadata": {
        "id": "dRK1z1wpp6ts",
        "colab_type": "code",
        "colab": {
          "base_uri": "https://localhost:8080/",
          "height": 35
        },
        "outputId": "b6e5c714-b7a8-44dd-b7d1-2d8e30ac3501"
      },
      "source": [
        "train, test, feat = create_sets(df, True)\n",
        "len(train), len(test), len(feat)"
      ],
      "execution_count": 16,
      "outputs": [
        {
          "output_type": "execute_result",
          "data": {
            "text/plain": [
              "(26373, 3257, 2931)"
            ]
          },
          "metadata": {
            "tags": []
          },
          "execution_count": 16
        }
      ]
    },
    {
      "cell_type": "markdown",
      "metadata": {
        "id": "1uric2N2qNAa",
        "colab_type": "text"
      },
      "source": [
        "# Initial Training"
      ]
    },
    {
      "cell_type": "code",
      "metadata": {
        "id": "VtXHWHSXnXCZ",
        "colab_type": "code",
        "colab": {}
      },
      "source": [
        "data = (TabularList.from_df(train, path=path, cat_names=cat_names, \n",
        "                            cont_names=cont_names, procs=procs)\n",
        "       .split_by_rand_pct()\n",
        "       .label_from_df(cols=dep_var)\n",
        "       .databunch())"
      ],
      "execution_count": 0,
      "outputs": []
    },
    {
      "cell_type": "code",
      "metadata": {
        "id": "_0Y_v2iNqZsz",
        "colab_type": "code",
        "colab": {}
      },
      "source": [
        "learn = tabular_learner(data, layers=[200,100], metrics=accuracy)"
      ],
      "execution_count": 0,
      "outputs": []
    },
    {
      "cell_type": "code",
      "metadata": {
        "id": "S3L9TkH6qdAe",
        "colab_type": "code",
        "colab": {
          "base_uri": "https://localhost:8080/",
          "height": 198
        },
        "outputId": "362e9142-b6ae-4360-ccd0-ba84a12897d7"
      },
      "source": [
        "learn.fit_one_cycle(5, 3e-02)"
      ],
      "execution_count": 19,
      "outputs": [
        {
          "output_type": "display_data",
          "data": {
            "text/html": [
              "<table border=\"1\" class=\"dataframe\">\n",
              "  <thead>\n",
              "    <tr style=\"text-align: left;\">\n",
              "      <th>epoch</th>\n",
              "      <th>train_loss</th>\n",
              "      <th>valid_loss</th>\n",
              "      <th>accuracy</th>\n",
              "      <th>time</th>\n",
              "    </tr>\n",
              "  </thead>\n",
              "  <tbody>\n",
              "    <tr>\n",
              "      <td>0</td>\n",
              "      <td>0.382332</td>\n",
              "      <td>0.367228</td>\n",
              "      <td>0.828972</td>\n",
              "      <td>00:03</td>\n",
              "    </tr>\n",
              "    <tr>\n",
              "      <td>1</td>\n",
              "      <td>0.373062</td>\n",
              "      <td>0.356748</td>\n",
              "      <td>0.832954</td>\n",
              "      <td>00:03</td>\n",
              "    </tr>\n",
              "    <tr>\n",
              "      <td>2</td>\n",
              "      <td>0.363265</td>\n",
              "      <td>0.344032</td>\n",
              "      <td>0.841107</td>\n",
              "      <td>00:03</td>\n",
              "    </tr>\n",
              "    <tr>\n",
              "      <td>3</td>\n",
              "      <td>0.356159</td>\n",
              "      <td>0.345233</td>\n",
              "      <td>0.832575</td>\n",
              "      <td>00:03</td>\n",
              "    </tr>\n",
              "    <tr>\n",
              "      <td>4</td>\n",
              "      <td>0.355214</td>\n",
              "      <td>0.342333</td>\n",
              "      <td>0.841297</td>\n",
              "      <td>00:03</td>\n",
              "    </tr>\n",
              "  </tbody>\n",
              "</table>"
            ],
            "text/plain": [
              "<IPython.core.display.HTML object>"
            ]
          },
          "metadata": {
            "tags": []
          }
        }
      ]
    },
    {
      "cell_type": "code",
      "metadata": {
        "id": "O6NWDmGdqgpe",
        "colab_type": "code",
        "colab": {
          "base_uri": "https://localhost:8080/",
          "height": 78
        },
        "outputId": "3358c8c1-47d9-49c4-e79e-953ba168d6dc"
      },
      "source": [
        "learn.fit_one_cycle(1, 3e-3)"
      ],
      "execution_count": 20,
      "outputs": [
        {
          "output_type": "display_data",
          "data": {
            "text/html": [
              "<table border=\"1\" class=\"dataframe\">\n",
              "  <thead>\n",
              "    <tr style=\"text-align: left;\">\n",
              "      <th>epoch</th>\n",
              "      <th>train_loss</th>\n",
              "      <th>valid_loss</th>\n",
              "      <th>accuracy</th>\n",
              "      <th>time</th>\n",
              "    </tr>\n",
              "  </thead>\n",
              "  <tbody>\n",
              "    <tr>\n",
              "      <td>0</td>\n",
              "      <td>0.347140</td>\n",
              "      <td>0.342735</td>\n",
              "      <td>0.840918</td>\n",
              "      <td>00:03</td>\n",
              "    </tr>\n",
              "  </tbody>\n",
              "</table>"
            ],
            "text/plain": [
              "<IPython.core.display.HTML object>"
            ]
          },
          "metadata": {
            "tags": []
          }
        }
      ]
    },
    {
      "cell_type": "markdown",
      "metadata": {
        "id": "YnvjgU5_qplG",
        "colab_type": "text"
      },
      "source": [
        "# Permutation Selection Algorithm"
      ]
    },
    {
      "cell_type": "code",
      "metadata": {
        "id": "n1-NpoeLrN9x",
        "colab_type": "code",
        "colab": {
          "base_uri": "https://localhost:8080/",
          "height": 145
        },
        "outputId": "eab58208-3086-44e9-8340-7ddadb8774a0"
      },
      "source": [
        "learn.data.cat_names"
      ],
      "execution_count": 23,
      "outputs": [
        {
          "output_type": "execute_result",
          "data": {
            "text/plain": [
              "['workclass',\n",
              " 'education',\n",
              " 'marital-status',\n",
              " 'occupation',\n",
              " 'relationship',\n",
              " 'race',\n",
              " 'education-num_na']"
            ]
          },
          "metadata": {
            "tags": []
          },
          "execution_count": 23
        }
      ]
    },
    {
      "cell_type": "code",
      "metadata": {
        "id": "JIF75IVgtgaj",
        "colab_type": "code",
        "colab": {
          "base_uri": "https://localhost:8080/",
          "height": 145
        },
        "outputId": "fab30f48-5037-4d87-9b11-c2ee6a85cafb"
      },
      "source": [
        "learn.data.cat_names"
      ],
      "execution_count": 30,
      "outputs": [
        {
          "output_type": "execute_result",
          "data": {
            "text/plain": [
              "['workclass',\n",
              " 'education',\n",
              " 'marital-status',\n",
              " 'occupation',\n",
              " 'relationship',\n",
              " 'race',\n",
              " 'education-num_na']"
            ]
          },
          "metadata": {
            "tags": []
          },
          "execution_count": 30
        }
      ]
    },
    {
      "cell_type": "code",
      "metadata": {
        "id": "UXP3UPywqmZ-",
        "colab_type": "code",
        "colab": {}
      },
      "source": [
        "def feature_importance(learn:Learner, dep_var:str, test:DataFrame):\n",
        "  pd.options.mode.chained_assignment= None # Gets rid of annoying warning\n",
        "  \n",
        "  data = learn.data\n",
        "  cats = [x for x in data.cat_names if '_na' not in x]\n",
        "  conts = data.cont_names\n",
        "  procs = data.procs\n",
        "  \n",
        "  dt = (TabularList.from_df(test, path='', cat_names=cats.copy(), cont_names=conts.copy(),\n",
        "                           procs=procs)\n",
        "       .split_none()\n",
        "       .label_from_df(cols=dep_var))\n",
        "  dt.valid = dt.train\n",
        "  dt = dt.databunch()\n",
        "  \n",
        "  learn.data.valid_dl = dt.valid_dl\n",
        "  loss0 = float(learn.validate()[1])\n",
        "  \n",
        "  types = [cats, conts]\n",
        "  \n",
        "  fi = dict()\n",
        "  for j, t in enumerate(types):\n",
        "    for i, c in enumerate(t):\n",
        "      print(c)\n",
        "      base = test.copy()\n",
        "      base[c] = base[c].sample(n=len(base), replace=True).reset_index(drop=True)\n",
        "      \n",
        "      \n",
        "      dt = (TabularList.from_df(base, path='', cat_names=cats.copy(), cont_names=conts.copy(),\n",
        "                         procs=procs)\n",
        "       .split_none()\n",
        "       .label_from_df(cols=dep_var))\n",
        "      dt.valid = dt.train\n",
        "      dt = dt.databunch()\n",
        "      \n",
        "      learn.data.valid_dl = dt.valid_dl\n",
        "      fi[c] = float(learn.validate()[1]) - loss0\n",
        "  \n",
        "  d = sorted(fi.items(), key=lambda kv: kv[1])\n",
        "  df = pd.DataFrame({'Variable': [l for l, v in d], u'Δ Accuracy': [v for l, v in d]})\n",
        "  df['Type'] = ''\n",
        "  for x in range(len(df)):\n",
        "    if df['Variable'].iloc[x] in cats:\n",
        "      df['Type'].iloc[x] = 'categorical'\n",
        "    else:\n",
        "      df['Type'].iloc[x] = 'continuous'\n",
        "  return df"
      ],
      "execution_count": 0,
      "outputs": []
    },
    {
      "cell_type": "code",
      "metadata": {
        "id": "r0_9oGY0tMzW",
        "colab_type": "code",
        "colab": {}
      },
      "source": [
        "res = feature_importance(learn, dep_var, feat)"
      ],
      "execution_count": 0,
      "outputs": []
    },
    {
      "cell_type": "code",
      "metadata": {
        "id": "a13jB22JtSxM",
        "colab_type": "code",
        "colab": {
          "base_uri": "https://localhost:8080/",
          "height": 318
        },
        "outputId": "7cc7be22-5675-4834-ecae-adcf812e009c"
      },
      "source": [
        "res"
      ],
      "execution_count": 60,
      "outputs": [
        {
          "output_type": "execute_result",
          "data": {
            "text/html": [
              "<div>\n",
              "<style scoped>\n",
              "    .dataframe tbody tr th:only-of-type {\n",
              "        vertical-align: middle;\n",
              "    }\n",
              "\n",
              "    .dataframe tbody tr th {\n",
              "        vertical-align: top;\n",
              "    }\n",
              "\n",
              "    .dataframe thead th {\n",
              "        text-align: right;\n",
              "    }\n",
              "</style>\n",
              "<table border=\"1\" class=\"dataframe\">\n",
              "  <thead>\n",
              "    <tr style=\"text-align: right;\">\n",
              "      <th></th>\n",
              "      <th>Variable</th>\n",
              "      <th>Δ Accuracy</th>\n",
              "      <th>Type</th>\n",
              "    </tr>\n",
              "  </thead>\n",
              "  <tbody>\n",
              "    <tr>\n",
              "      <th>0</th>\n",
              "      <td>marital-status</td>\n",
              "      <td>-0.033436</td>\n",
              "      <td>categorical</td>\n",
              "    </tr>\n",
              "    <tr>\n",
              "      <th>1</th>\n",
              "      <td>age</td>\n",
              "      <td>-0.017059</td>\n",
              "      <td>continuous</td>\n",
              "    </tr>\n",
              "    <tr>\n",
              "      <th>2</th>\n",
              "      <td>occupation</td>\n",
              "      <td>-0.016035</td>\n",
              "      <td>categorical</td>\n",
              "    </tr>\n",
              "    <tr>\n",
              "      <th>3</th>\n",
              "      <td>education-num</td>\n",
              "      <td>-0.014330</td>\n",
              "      <td>continuous</td>\n",
              "    </tr>\n",
              "    <tr>\n",
              "      <th>4</th>\n",
              "      <td>education</td>\n",
              "      <td>-0.006141</td>\n",
              "      <td>categorical</td>\n",
              "    </tr>\n",
              "    <tr>\n",
              "      <th>5</th>\n",
              "      <td>workclass</td>\n",
              "      <td>-0.005800</td>\n",
              "      <td>categorical</td>\n",
              "    </tr>\n",
              "    <tr>\n",
              "      <th>6</th>\n",
              "      <td>race</td>\n",
              "      <td>-0.000682</td>\n",
              "      <td>categorical</td>\n",
              "    </tr>\n",
              "    <tr>\n",
              "      <th>7</th>\n",
              "      <td>fnlwgt</td>\n",
              "      <td>-0.000682</td>\n",
              "      <td>continuous</td>\n",
              "    </tr>\n",
              "    <tr>\n",
              "      <th>8</th>\n",
              "      <td>relationship</td>\n",
              "      <td>0.000341</td>\n",
              "      <td>categorical</td>\n",
              "    </tr>\n",
              "  </tbody>\n",
              "</table>\n",
              "</div>"
            ],
            "text/plain": [
              "         Variable  Δ Accuracy         Type\n",
              "0  marital-status   -0.033436  categorical\n",
              "1             age   -0.017059   continuous\n",
              "2      occupation   -0.016035  categorical\n",
              "3   education-num   -0.014330   continuous\n",
              "4       education   -0.006141  categorical\n",
              "5       workclass   -0.005800  categorical\n",
              "6            race   -0.000682  categorical\n",
              "7          fnlwgt   -0.000682   continuous\n",
              "8    relationship    0.000341  categorical"
            ]
          },
          "metadata": {
            "tags": []
          },
          "execution_count": 60
        }
      ]
    }
  ]
}