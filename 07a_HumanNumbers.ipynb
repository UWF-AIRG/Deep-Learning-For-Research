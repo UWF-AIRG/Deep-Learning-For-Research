{
  "nbformat": 4,
  "nbformat_minor": 0,
  "metadata": {
    "colab": {
      "name": "HumanNumbers.ipynb",
      "version": "0.3.2",
      "provenance": [],
      "collapsed_sections": []
    },
    "kernelspec": {
      "name": "python3",
      "display_name": "Python 3"
    },
    "accelerator": "GPU"
  },
  "cells": [
    {
      "cell_type": "markdown",
      "metadata": {
        "id": "rkf79ut20npQ",
        "colab_type": "text"
      },
      "source": [
        "# NLP From Scratch \n",
        "\n",
        "|  | Tuesday 4-5:15pm | Friday  4-5:30pm |\n",
        "|:------:|:-------------------------------------------:|:--------------------------------------------------------------------------:|\n",
        "| **Week 1** | Introduction | Introduction |\n",
        "| **Week 2** | Custom computer vision tasks | State of the art in Computer Vision |\n",
        "| **Week 3** | Introduction to Tabular modeling and pandas | Pandas workshop and feature engineering |\n",
        "| **Week 4** | Tabular and Image Regression | Feature importance and advanced feature  engineering |\n",
        "| **Week 5** | Natural Language Processing | State of the art in NLP |\n",
        "| **Week 6** | Segmentation and Kaggle | Audio |\n",
        "| **Week 7** | Computer vision from scratch | **NLP from scratch** |\n",
        "| **Week 8** | Callbacks | Optimizers |\n",
        "| **Week 9** | Generative Adversarial Networks | Research time / presentations |\n",
        "| **Week 10** | Putting models into production | Putting models into production |\n",
        "\n",
        "\n",
        "This week we will focus on building custom models for both a text and an image problem. We will explore Recurrent Nerual Networks and Convolutional Neural Networks, and how to give a model the ability to have 'memory'\n",
        "\n",
        "## What is a Recursive Neural Network (RNN)?\n",
        "\n",
        "There is a large difference between RNN versus a CNN. To quote Andrej Karpathy, \"they (CNN's) accept a fixed-sized vector as input (e.g. an image) and produce a fixed-sized vector as output (e.g. probabilities of different classes). Not only that: These models perform this mapping using a fixed amount of computational steps (e.g. the number of layers in the model). The core reason that recurrent nets are more exciting is that they allow us to operate over sequences of vectors: Sequences in the input, the output, or in the most general case both.  \"\n",
        "\n",
        "![alt text](http://karpathy.github.io/assets/rnn/diags.jpeg)\n",
        "\n",
        "*key:* \n",
        "* Red: input vector (tensor)\n",
        "* Green and Blue: Output vectors that hold the state (more on this later)\n",
        "* Arrows: Functions (eg. Matrix Multiplication)\n",
        "\n",
        "## When to use them?\n",
        "\n",
        "* They work best with sequences (stock data, NLP)\n",
        "\n",
        "## Why use them?\n",
        "\n",
        "* They are flexible and work with many structures:\n",
        "  * **One-to-many** Take an image and return a caption\n",
        "  * **Many-to-one** Take a movie review and return if it's positive or negative\n",
        "  * **Many-to-Many** Take an English sentence and return a Spanish sentence\n",
        "\n",
        "## Human Numbers"
      ]
    },
    {
      "cell_type": "markdown",
      "metadata": {
        "id": "0zlZg7l_0qZ5",
        "colab_type": "text"
      },
      "source": [
        "We will explore a basic Recursive Neural Network and try to apply it to numbers written in text form, as well as get a look at custom model architecture for fully-connected models"
      ]
    },
    {
      "cell_type": "code",
      "metadata": {
        "id": "b-uOOzRk0lBW",
        "colab_type": "code",
        "colab": {}
      },
      "source": [
        "from fastai import *\n",
        "from fastai.text import *\n",
        "bs=64"
      ],
      "execution_count": 0,
      "outputs": []
    },
    {
      "cell_type": "markdown",
      "metadata": {
        "id": "yYOFTzku0_Gp",
        "colab_type": "text"
      },
      "source": [
        "# Data"
      ]
    },
    {
      "cell_type": "code",
      "metadata": {
        "id": "m3mL84Qz04P7",
        "colab_type": "code",
        "outputId": "f8dc24cb-bd66-4a72-b72f-30c68da7ea1b",
        "colab": {
          "base_uri": "https://localhost:8080/",
          "height": 51
        }
      },
      "source": [
        "path = untar_data(URLs.HUMAN_NUMBERS)\n",
        "path.ls()"
      ],
      "execution_count": 0,
      "outputs": [
        {
          "output_type": "execute_result",
          "data": {
            "text/plain": [
              "[PosixPath('/root/.fastai/data/human_numbers/train.txt'),\n",
              " PosixPath('/root/.fastai/data/human_numbers/valid.txt')]"
            ]
          },
          "metadata": {
            "tags": []
          },
          "execution_count": 2
        }
      ]
    },
    {
      "cell_type": "code",
      "metadata": {
        "id": "oVfOPzQN10Bc",
        "colab_type": "code",
        "outputId": "c5deec03-71b8-4ac4-ee74-2261963ee7fa",
        "colab": {
          "base_uri": "https://localhost:8080/",
          "height": 34
        }
      },
      "source": [
        "open(path/'train.txt').readlines()[:5]"
      ],
      "execution_count": 0,
      "outputs": [
        {
          "output_type": "execute_result",
          "data": {
            "text/plain": [
              "['one \\n', 'two \\n', 'three \\n', 'four \\n', 'five \\n']"
            ]
          },
          "metadata": {
            "tags": []
          },
          "execution_count": 3
        }
      ]
    },
    {
      "cell_type": "code",
      "metadata": {
        "id": "CaWOPMeK1DIx",
        "colab_type": "code",
        "colab": {}
      },
      "source": [
        "def readnums(d): return [', '.join(o.strip() for o in open(path/d).readlines())]\n",
        "# Strip: returns a copy of a string with both leading and trailing characters stripped"
      ],
      "execution_count": 0,
      "outputs": []
    },
    {
      "cell_type": "code",
      "metadata": {
        "id": "tjDBtz3l1WoL",
        "colab_type": "code",
        "outputId": "7b3afabb-556b-43ae-df66-8e43ed0872e8",
        "colab": {
          "base_uri": "https://localhost:8080/",
          "height": 34
        }
      },
      "source": [
        "train_txt = readnums('train.txt'); train_txt[0][-80:]"
      ],
      "execution_count": 0,
      "outputs": [
        {
          "output_type": "execute_result",
          "data": {
            "text/plain": [
              "'even thousand nine hundred ninety eight, seven thousand nine hundred ninety nine'"
            ]
          },
          "metadata": {
            "tags": []
          },
          "execution_count": 6
        }
      ]
    },
    {
      "cell_type": "code",
      "metadata": {
        "id": "oRHMiVFz1bjz",
        "colab_type": "code",
        "outputId": "5a4218fa-b6ef-4117-cc4b-47b22b33573e",
        "colab": {
          "base_uri": "https://localhost:8080/",
          "height": 34
        }
      },
      "source": [
        "valid_txt = readnums('valid.txt'); valid_txt[0][-80:]"
      ],
      "execution_count": 0,
      "outputs": [
        {
          "output_type": "execute_result",
          "data": {
            "text/plain": [
              "' nine thousand nine hundred ninety eight, nine thousand nine hundred ninety nine'"
            ]
          },
          "metadata": {
            "tags": []
          },
          "execution_count": 7
        }
      ]
    },
    {
      "cell_type": "code",
      "metadata": {
        "id": "jo9Xq9_L1qUT",
        "colab_type": "code",
        "outputId": "71606657-844a-455f-836f-4c56343ec72f",
        "colab": {
          "base_uri": "https://localhost:8080/",
          "height": 34
        }
      },
      "source": [
        "train_txt[0][0:5]"
      ],
      "execution_count": 0,
      "outputs": [
        {
          "output_type": "execute_result",
          "data": {
            "text/plain": [
              "'one, '"
            ]
          },
          "metadata": {
            "tags": []
          },
          "execution_count": 8
        }
      ]
    },
    {
      "cell_type": "markdown",
      "metadata": {
        "id": "B17sOpS12MGO",
        "colab_type": "text"
      },
      "source": [
        "## ItemList\n",
        "\n",
        "Part of the Fast.AI framework consists of ItemLists. They are everywhere and are used for all applications we want to dictate: \n",
        "\n",
        "https://docs.fast.ai/tutorial.itemlist.html\n",
        "\n"
      ]
    },
    {
      "cell_type": "code",
      "metadata": {
        "id": "3RNStxaf14es",
        "colab_type": "code",
        "colab": {}
      },
      "source": [
        "TextList??"
      ],
      "execution_count": 0,
      "outputs": []
    },
    {
      "cell_type": "code",
      "metadata": {
        "id": "XWbBIshO2Haf",
        "colab_type": "code",
        "colab": {}
      },
      "source": [
        "ItemList??"
      ],
      "execution_count": 0,
      "outputs": []
    },
    {
      "cell_type": "markdown",
      "metadata": {
        "id": "j5_g_8KK2cIo",
        "colab_type": "text"
      },
      "source": [
        "We've already been playing with them"
      ]
    },
    {
      "cell_type": "code",
      "metadata": {
        "id": "FukWK9ZH2KwP",
        "colab_type": "code",
        "colab": {}
      },
      "source": [
        "TabularList.from_df()\n",
        "ImageList.from_folder()"
      ],
      "execution_count": 0,
      "outputs": []
    },
    {
      "cell_type": "markdown",
      "metadata": {
        "id": "zfEE-14p2ook",
        "colab_type": "text"
      },
      "source": [
        "The source code:"
      ]
    },
    {
      "cell_type": "code",
      "metadata": {
        "id": "uwTuwsUK2pzE",
        "colab_type": "code",
        "colab": {}
      },
      "source": [
        "class ImageDataBunch(DataBunch):\n",
        "  'Databunch suitable for computer vision.'\n",
        "  \n",
        "  @classmethod\n",
        "  def from_folder(cls, path:PathorStr, train:PathOrStr='train', valid:PathOrStr='valid',\n",
        "                    valid_pct=None, seed:int=None, classes:Collection=None, **kwargs:Any)->'ImageDataBunch':\n",
        "    'Create from imagenet style dataset in `path` with `train`, `valid`, `test` subfolders (or provide `valid_pct`)'\n",
        "    path = Path(path)\n",
        "    il = ImageList.from_folder(path)\n",
        "    if valid_pct is None: src = il.split_by_folder(train=train, valid=valid)\n",
        "    else: src = il.split_by_rand_pct(valid_pct, seed)\n",
        "    src = src.label_from_folder(classes=classes)\n",
        "    return cls.create_from_ll(src, **kwargs)"
      ],
      "execution_count": 0,
      "outputs": []
    },
    {
      "cell_type": "code",
      "metadata": {
        "id": "BthmCgqS31va",
        "colab_type": "code",
        "colab": {}
      },
      "source": [
        "class TabularList(ItemList):\n",
        "    \"Basic `ItemList` for tabular data.\"\n",
        "    _item_cls=TabularLine\n",
        "    _processor=TabularProcessor\n",
        "    _bunch=TabularDataBunch\n",
        "    def __init__(self, items:Iterator, cat_names:OptStrList=None, cont_names:OptStrList=None,\n",
        "                 procs=None, **kwargs)->'TabularList':\n",
        "        super().__init__(range_of(items), **kwargs)\n",
        "        #dataframe is in inner_df, items is just a range of index\n",
        "        if cat_names is None:  cat_names = []\n",
        "        if cont_names is None: cont_names = []\n",
        "        self.cat_names,self.cont_names,self.procs = cat_names,cont_names,procs\n",
        "        self.copy_new += ['cat_names', 'cont_names', 'procs']\n",
        "        self.preprocessed = False\n",
        "        \n",
        "    @class method\n",
        "     def from_df(cls, df:DataFrame, cat_names:OptStrList=None, cont_names:OptStrList=None, procs=None, **kwargs)->'ItemList':\n",
        "        \"Get the list of inputs in the `col` of `path/csv_name`.\"\n",
        "        return cls(items=range(len(df)), cat_names=cat_names, cont_names=cont_names, procs=procs, inner_df=df.copy(), **kwargs)"
      ],
      "execution_count": 0,
      "outputs": []
    },
    {
      "cell_type": "markdown",
      "metadata": {
        "id": "cnbNjBAEKAf6",
        "colab_type": "text"
      },
      "source": [
        "The steps for making a databunch also are as follows: ItemList, split the list, label the lists, seperate into batches and databunch"
      ]
    },
    {
      "cell_type": "markdown",
      "metadata": {
        "id": "hzGRL4Gc3aRH",
        "colab_type": "text"
      },
      "source": [
        "<h3>self vs cls:</h3>\n",
        "\n",
        "`self` is used for the first argument in *instance* methods\n",
        "\n",
        "`cls` is used for the first argument in *class* methods"
      ]
    },
    {
      "cell_type": "markdown",
      "metadata": {
        "id": "xYrPmCYP4IUS",
        "colab_type": "text"
      },
      "source": [
        "Today we will use **TextList**"
      ]
    },
    {
      "cell_type": "code",
      "metadata": {
        "id": "2Y6ofpZp4M1K",
        "colab_type": "code",
        "colab": {}
      },
      "source": [
        "train = TextList(train_txt, path=path)\n",
        "valid = TextList(valid_txt, path=path)"
      ],
      "execution_count": 0,
      "outputs": []
    },
    {
      "cell_type": "code",
      "metadata": {
        "id": "9YwkrESX4YGl",
        "colab_type": "code",
        "colab": {}
      },
      "source": [
        "src = ItemLists(path=path, train=train, valid=valid).label_for_lm()"
      ],
      "execution_count": 0,
      "outputs": []
    },
    {
      "cell_type": "code",
      "metadata": {
        "id": "gDRVMyOZ4c4E",
        "colab_type": "code",
        "colab": {}
      },
      "source": [
        "data = src.databunch(bs=bs)"
      ],
      "execution_count": 0,
      "outputs": []
    },
    {
      "cell_type": "code",
      "metadata": {
        "id": "vdvTJiCM4fCT",
        "colab_type": "code",
        "colab": {}
      },
      "source": [
        "data"
      ],
      "execution_count": 0,
      "outputs": []
    },
    {
      "cell_type": "code",
      "metadata": {
        "id": "Z9MsK3tS4fo7",
        "colab_type": "code",
        "outputId": "36fd23c6-6d52-42ef-9aa1-347e0cbed077",
        "colab": {
          "base_uri": "https://localhost:8080/",
          "height": 34
        }
      },
      "source": [
        "len(data.valid_ds[0][0].data)"
      ],
      "execution_count": 0,
      "outputs": [
        {
          "output_type": "execute_result",
          "data": {
            "text/plain": [
              "13017"
            ]
          },
          "metadata": {
            "tags": []
          },
          "execution_count": 85
        }
      ]
    },
    {
      "cell_type": "code",
      "metadata": {
        "id": "WjfsZqkI4lUU",
        "colab_type": "code",
        "outputId": "610b2a46-3334-4ec4-df71-cf6651718052",
        "colab": {
          "base_uri": "https://localhost:8080/",
          "height": 34
        }
      },
      "source": [
        "data.bptt"
      ],
      "execution_count": 0,
      "outputs": [
        {
          "output_type": "execute_result",
          "data": {
            "text/plain": [
              "70"
            ]
          },
          "metadata": {
            "tags": []
          },
          "execution_count": 86
        }
      ]
    },
    {
      "cell_type": "markdown",
      "metadata": {
        "id": "OZB9wsE24s97",
        "colab_type": "text"
      },
      "source": [
        "BBPT = Backpropogation Through Time, used for Recurrent Nueral Networks: https://en.wikipedia.org/wiki/Backpropagation_through_time"
      ]
    },
    {
      "cell_type": "code",
      "metadata": {
        "id": "u8TWKYsS4qg8",
        "colab_type": "code",
        "outputId": "8460df94-27c0-440c-ffcb-d07e3e23c414",
        "colab": {
          "base_uri": "https://localhost:8080/",
          "height": 34
        }
      },
      "source": [
        "data.bptt, len(data.valid_dl)"
      ],
      "execution_count": 0,
      "outputs": [
        {
          "output_type": "execute_result",
          "data": {
            "text/plain": [
              "(70, 3)"
            ]
          },
          "metadata": {
            "tags": []
          },
          "execution_count": 12
        }
      ]
    },
    {
      "cell_type": "code",
      "metadata": {
        "id": "QCle8Ckr47W0",
        "colab_type": "code",
        "outputId": "7fda0124-524e-4ee9-8d24-47478fd2578f",
        "colab": {
          "base_uri": "https://localhost:8080/",
          "height": 34
        }
      },
      "source": [
        "13017/70/bs"
      ],
      "execution_count": 0,
      "outputs": [
        {
          "output_type": "execute_result",
          "data": {
            "text/plain": [
              "2.905580357142857"
            ]
          },
          "metadata": {
            "tags": []
          },
          "execution_count": 13
        }
      ]
    },
    {
      "cell_type": "code",
      "metadata": {
        "id": "Ew0KysbA5AnV",
        "colab_type": "code",
        "outputId": "89e1ff51-13e5-4faa-e147-2fa697b923bf",
        "colab": {
          "base_uri": "https://localhost:8080/",
          "height": 34
        }
      },
      "source": [
        "it = iter(data.valid_dl); it"
      ],
      "execution_count": 0,
      "outputs": [
        {
          "output_type": "execute_result",
          "data": {
            "text/plain": [
              "<generator object DeviceDataLoader.__iter__ at 0x7f5cf273eca8>"
            ]
          },
          "metadata": {
            "tags": []
          },
          "execution_count": 14
        }
      ]
    },
    {
      "cell_type": "code",
      "metadata": {
        "id": "oIDBX7_G5F2s",
        "colab_type": "code",
        "colab": {}
      },
      "source": [
        "x1, y1 = next(it)\n",
        "x2, y2 = next(it)\n",
        "x3, y3 = next(it)\n",
        "it.close()"
      ],
      "execution_count": 0,
      "outputs": []
    },
    {
      "cell_type": "markdown",
      "metadata": {
        "id": "-BDOtOM35ZLk",
        "colab_type": "text"
      },
      "source": [
        "`numel` tells us how many elements are in a PyTorch tensor"
      ]
    },
    {
      "cell_type": "code",
      "metadata": {
        "id": "zFg1HbMX5PN1",
        "colab_type": "code",
        "outputId": "4b49428d-b0b2-42d2-f491-78fc7147730e",
        "colab": {
          "base_uri": "https://localhost:8080/",
          "height": 34
        }
      },
      "source": [
        "x1.numel()"
      ],
      "execution_count": 0,
      "outputs": [
        {
          "output_type": "execute_result",
          "data": {
            "text/plain": [
              "4480"
            ]
          },
          "metadata": {
            "tags": []
          },
          "execution_count": 91
        }
      ]
    },
    {
      "cell_type": "code",
      "metadata": {
        "id": "PjVG4Wl15Ssd",
        "colab_type": "code",
        "outputId": "3136b8ea-25ab-48db-f74d-6b84537f0fc9",
        "colab": {
          "base_uri": "https://localhost:8080/",
          "height": 34
        }
      },
      "source": [
        "x1.shape, 16*70"
      ],
      "execution_count": 0,
      "outputs": [
        {
          "output_type": "execute_result",
          "data": {
            "text/plain": [
              "(torch.Size([64, 70]), 1120)"
            ]
          },
          "metadata": {
            "tags": []
          },
          "execution_count": 92
        }
      ]
    },
    {
      "cell_type": "code",
      "metadata": {
        "id": "di9WxrqB5d8F",
        "colab_type": "code",
        "outputId": "3d3d204a-0335-4509-e133-6d32c8569555",
        "colab": {
          "base_uri": "https://localhost:8080/",
          "height": 34
        }
      },
      "source": [
        "x1.shape, y1.shape"
      ],
      "execution_count": 0,
      "outputs": [
        {
          "output_type": "execute_result",
          "data": {
            "text/plain": [
              "(torch.Size([64, 70]), torch.Size([64, 70]))"
            ]
          },
          "metadata": {
            "tags": []
          },
          "execution_count": 93
        }
      ]
    },
    {
      "cell_type": "code",
      "metadata": {
        "id": "rYylWEK-5pEl",
        "colab_type": "code",
        "outputId": "7951eebf-d5a2-4576-9b1f-58b1dd71ac5a",
        "colab": {
          "base_uri": "https://localhost:8080/",
          "height": 85
        }
      },
      "source": [
        "x1[:,0]"
      ],
      "execution_count": 0,
      "outputs": [
        {
          "output_type": "execute_result",
          "data": {
            "text/plain": [
              "tensor([ 2,  9, 11, 12, 13, 11, 10,  9, 10, 14, 19, 25, 19, 15, 16, 11, 19,  9,\n",
              "        10,  9, 19, 25, 19, 11, 19, 11, 10,  9, 19, 20, 11, 26, 20, 23, 20, 20,\n",
              "        24, 20, 11, 14, 11, 11,  9, 14,  9, 20, 10, 20, 35, 17, 11, 10,  9, 17,\n",
              "         9, 20, 10, 20, 11, 20, 11, 20, 20, 20], device='cuda:0')"
            ]
          },
          "metadata": {
            "tags": []
          },
          "execution_count": 94
        }
      ]
    },
    {
      "cell_type": "code",
      "metadata": {
        "id": "nSJ-XWAI5uLP",
        "colab_type": "code",
        "outputId": "c570bed9-475a-4ba1-9113-7d5a6d154a79",
        "colab": {
          "base_uri": "https://localhost:8080/",
          "height": 85
        }
      },
      "source": [
        "y1[:,0]"
      ],
      "execution_count": 0,
      "outputs": [
        {
          "output_type": "execute_result",
          "data": {
            "text/plain": [
              "tensor([19, 19, 27, 10,  9, 12, 32, 19, 26, 10, 11, 15, 11, 10,  9, 15, 11, 19,\n",
              "        26, 19, 11, 18, 11, 18,  9, 18, 21, 19, 10, 10, 20,  9, 11, 16, 11, 11,\n",
              "        13, 11, 13,  9, 13, 14, 20, 10, 20, 11, 24, 11,  9,  9, 16, 17, 20, 10,\n",
              "        20, 11, 24, 11, 19,  9, 19, 11, 11, 10], device='cuda:0')"
            ]
          },
          "metadata": {
            "tags": []
          },
          "execution_count": 95
        }
      ]
    },
    {
      "cell_type": "code",
      "metadata": {
        "id": "_AVpLQ6G5y_f",
        "colab_type": "code",
        "outputId": "39b3c3cd-7647-4cff-dd19-05bec2179f35",
        "colab": {
          "base_uri": "https://localhost:8080/",
          "height": 34
        }
      },
      "source": [
        "data.valid_ds.vocab"
      ],
      "execution_count": 0,
      "outputs": [
        {
          "output_type": "execute_result",
          "data": {
            "text/plain": [
              "<fastai.text.transform.Vocab at 0x7f563efe3828>"
            ]
          },
          "metadata": {
            "tags": []
          },
          "execution_count": 96
        }
      ]
    },
    {
      "cell_type": "code",
      "metadata": {
        "id": "WTqorR_m56FB",
        "colab_type": "code",
        "colab": {}
      },
      "source": [
        "v = data.valid_ds.vocab"
      ],
      "execution_count": 0,
      "outputs": []
    },
    {
      "cell_type": "code",
      "metadata": {
        "id": "6MybnCEX5-dq",
        "colab_type": "code",
        "outputId": "6d72a0da-ffe7-406e-91a1-718517e3297e",
        "colab": {
          "base_uri": "https://localhost:8080/",
          "height": 102
        }
      },
      "source": [
        "x1[0]"
      ],
      "execution_count": 0,
      "outputs": [
        {
          "output_type": "execute_result",
          "data": {
            "text/plain": [
              "tensor([ 2, 19, 11, 12,  9, 19, 11, 13,  9, 19, 11, 14,  9, 19, 11, 15,  9, 19,\n",
              "        11, 16,  9, 19, 11, 17,  9, 19, 11, 18,  9, 19, 11, 19,  9, 19, 11, 20,\n",
              "         9, 19, 11, 29,  9, 19, 11, 30,  9, 19, 11, 31,  9, 19, 11, 32,  9, 19,\n",
              "        11, 33,  9, 19, 11, 34,  9, 19, 11, 35,  9, 19, 11, 36,  9, 19],\n",
              "       device='cuda:0')"
            ]
          },
          "metadata": {
            "tags": []
          },
          "execution_count": 18
        }
      ]
    },
    {
      "cell_type": "code",
      "metadata": {
        "id": "seFFCam05795",
        "colab_type": "code",
        "outputId": "e4ffe44c-1a24-4c24-e81f-8418ef7669f4",
        "colab": {
          "base_uri": "https://localhost:8080/",
          "height": 54
        }
      },
      "source": [
        "v.textify(x1[0])"
      ],
      "execution_count": 0,
      "outputs": [
        {
          "output_type": "execute_result",
          "data": {
            "text/plain": [
              "'xxbos eight thousand one , eight thousand two , eight thousand three , eight thousand four , eight thousand five , eight thousand six , eight thousand seven , eight thousand eight , eight thousand nine , eight thousand ten , eight thousand eleven , eight thousand twelve , eight thousand thirteen , eight thousand fourteen , eight thousand fifteen , eight thousand sixteen , eight thousand seventeen , eight'"
            ]
          },
          "metadata": {
            "tags": []
          },
          "execution_count": 17
        }
      ]
    },
    {
      "cell_type": "code",
      "metadata": {
        "id": "i7knEW2Z6Abh",
        "colab_type": "code",
        "outputId": "7f91e4a7-bec2-4e28-fa5c-fa8bf11499f6",
        "colab": {
          "base_uri": "https://localhost:8080/",
          "height": 54
        }
      },
      "source": [
        "v.textify(y1[0])"
      ],
      "execution_count": 0,
      "outputs": [
        {
          "output_type": "execute_result",
          "data": {
            "text/plain": [
              "'eight thousand one , eight thousand two , eight thousand three , eight thousand four , eight thousand five , eight thousand six , eight thousand seven , eight thousand eight , eight thousand nine , eight thousand ten , eight thousand eleven , eight thousand twelve , eight thousand thirteen , eight thousand fourteen , eight thousand fifteen , eight thousand sixteen , eight thousand seventeen , eight thousand'"
            ]
          },
          "metadata": {
            "tags": []
          },
          "execution_count": 100
        }
      ]
    },
    {
      "cell_type": "code",
      "metadata": {
        "id": "kJmSWLJh6EmR",
        "colab_type": "code",
        "outputId": "a8e61878-1e8a-47c6-e43b-7e49c956b383",
        "colab": {
          "base_uri": "https://localhost:8080/",
          "height": 54
        }
      },
      "source": [
        "v.textify(x2[0])"
      ],
      "execution_count": 0,
      "outputs": [
        {
          "output_type": "execute_result",
          "data": {
            "text/plain": [
              "'thousand eighteen , eight thousand nineteen , eight thousand twenty , eight thousand twenty one , eight thousand twenty two , eight thousand twenty three , eight thousand twenty four , eight thousand twenty five , eight thousand twenty six , eight thousand twenty seven , eight thousand twenty eight , eight thousand twenty nine , eight thousand thirty , eight thousand thirty one , eight thousand thirty two ,'"
            ]
          },
          "metadata": {
            "tags": []
          },
          "execution_count": 101
        }
      ]
    },
    {
      "cell_type": "code",
      "metadata": {
        "id": "cTL4BfF_6G-R",
        "colab_type": "code",
        "outputId": "6a64c678-db28-404c-89f9-5f7c4b8ae99d",
        "colab": {
          "base_uri": "https://localhost:8080/",
          "height": 54
        }
      },
      "source": [
        "v.textify(y2[0])"
      ],
      "execution_count": 0,
      "outputs": [
        {
          "output_type": "execute_result",
          "data": {
            "text/plain": [
              "'eighteen , eight thousand nineteen , eight thousand twenty , eight thousand twenty one , eight thousand twenty two , eight thousand twenty three , eight thousand twenty four , eight thousand twenty five , eight thousand twenty six , eight thousand twenty seven , eight thousand twenty eight , eight thousand twenty nine , eight thousand thirty , eight thousand thirty one , eight thousand thirty two , eight'"
            ]
          },
          "metadata": {
            "tags": []
          },
          "execution_count": 102
        }
      ]
    },
    {
      "cell_type": "code",
      "metadata": {
        "id": "AVt4oExh6INc",
        "colab_type": "code",
        "outputId": "856d0b35-76da-4f2f-93a5-90b8c98eb28b",
        "colab": {
          "base_uri": "https://localhost:8080/",
          "height": 289
        }
      },
      "source": [
        "data.show_batch(ds_type=DatasetType.Valid)"
      ],
      "execution_count": 0,
      "outputs": [
        {
          "output_type": "display_data",
          "data": {
            "text/html": [
              "<table border=\"1\" class=\"dataframe\">\n",
              "  <thead>\n",
              "    <tr style=\"text-align: right;\">\n",
              "      <th>idx</th>\n",
              "      <th>text</th>\n",
              "    </tr>\n",
              "  </thead>\n",
              "  <tbody>\n",
              "    <tr>\n",
              "      <td>0</td>\n",
              "      <td>thousand forty seven , eight thousand forty eight , eight thousand forty nine , eight thousand fifty , eight thousand fifty one , eight thousand fifty two , eight thousand fifty three , eight thousand fifty four , eight thousand fifty five , eight thousand fifty six , eight thousand fifty seven , eight thousand fifty eight , eight thousand fifty nine , eight thousand sixty , eight thousand sixty</td>\n",
              "    </tr>\n",
              "    <tr>\n",
              "      <td>1</td>\n",
              "      <td>eight , eight thousand eighty nine , eight thousand ninety , eight thousand ninety one , eight thousand ninety two , eight thousand ninety three , eight thousand ninety four , eight thousand ninety five , eight thousand ninety six , eight thousand ninety seven , eight thousand ninety eight , eight thousand ninety nine , eight thousand one hundred , eight thousand one hundred one , eight thousand one</td>\n",
              "    </tr>\n",
              "    <tr>\n",
              "      <td>2</td>\n",
              "      <td>thousand one hundred twenty four , eight thousand one hundred twenty five , eight thousand one hundred twenty six , eight thousand one hundred twenty seven , eight thousand one hundred twenty eight , eight thousand one hundred twenty nine , eight thousand one hundred thirty , eight thousand one hundred thirty one , eight thousand one hundred thirty two , eight thousand one hundred thirty three , eight thousand</td>\n",
              "    </tr>\n",
              "    <tr>\n",
              "      <td>3</td>\n",
              "      <td>three , eight thousand one hundred fifty four , eight thousand one hundred fifty five , eight thousand one hundred fifty six , eight thousand one hundred fifty seven , eight thousand one hundred fifty eight , eight thousand one hundred fifty nine , eight thousand one hundred sixty , eight thousand one hundred sixty one , eight thousand one hundred sixty two , eight thousand one hundred sixty three</td>\n",
              "    </tr>\n",
              "    <tr>\n",
              "      <td>4</td>\n",
              "      <td>thousand one hundred eighty three , eight thousand one hundred eighty four , eight thousand one hundred eighty five , eight thousand one hundred eighty six , eight thousand one hundred eighty seven , eight thousand one hundred eighty eight , eight thousand one hundred eighty nine , eight thousand one hundred ninety , eight thousand one hundred ninety one , eight thousand one hundred ninety two , eight thousand</td>\n",
              "    </tr>\n",
              "  </tbody>\n",
              "</table>"
            ],
            "text/plain": [
              "<IPython.core.display.HTML object>"
            ]
          },
          "metadata": {
            "tags": []
          }
        }
      ]
    },
    {
      "cell_type": "markdown",
      "metadata": {
        "id": "pw0nWwyvyrbu",
        "colab_type": "text"
      },
      "source": [
        "# Introduction into Models\n",
        "\n",
        "Models are split into two parts: **__init__**, and **__forward__** and are of type **nn.Module**"
      ]
    },
    {
      "cell_type": "code",
      "metadata": {
        "id": "RWtP42EUy6fO",
        "colab_type": "code",
        "colab": {}
      },
      "source": [
        "nn.Module??"
      ],
      "execution_count": 0,
      "outputs": []
    },
    {
      "cell_type": "code",
      "metadata": {
        "id": "mqlmAZ8lyzB0",
        "colab_type": "code",
        "colab": {}
      },
      "source": [
        "class model(nn.Module):\n",
        "  def __init__(self):\n",
        "    super().__init__() # Compatability helper\n",
        "    self.l1 = nn.Linear(nv, nh)\n",
        "    self.l2 = nn.Linear(nh, 10)"
      ],
      "execution_count": 0,
      "outputs": []
    },
    {
      "cell_type": "code",
      "metadata": {
        "id": "cpHyHbNn0Jpv",
        "colab_type": "code",
        "outputId": "36ff9d36-796b-4581-e417-78d323f307af",
        "colab": {
          "base_uri": "https://localhost:8080/",
          "height": 85
        }
      },
      "source": [
        "model()"
      ],
      "execution_count": 0,
      "outputs": [
        {
          "output_type": "execute_result",
          "data": {
            "text/plain": [
              "model(\n",
              "  (l1): Linear(in_features=40, out_features=64, bias=True)\n",
              "  (l2): Linear(in_features=64, out_features=10, bias=True)\n",
              ")"
            ]
          },
          "metadata": {
            "tags": []
          },
          "execution_count": 12
        }
      ]
    },
    {
      "cell_type": "markdown",
      "metadata": {
        "id": "UP8_oFm10MRf",
        "colab_type": "text"
      },
      "source": [
        "**init** builds the *structure*, **forward** is the *functionality*"
      ]
    },
    {
      "cell_type": "code",
      "metadata": {
        "id": "eWpxLRpw0Rmf",
        "colab_type": "code",
        "colab": {}
      },
      "source": [
        "class model(nn.Module):\n",
        "  def __init__(self):\n",
        "    super().__init__() # Compatability helper\n",
        "    self.l1 = nn.Linear(nv, nh)\n",
        "    self.l2 = nn.Linear(nh, 10)\n",
        "  def forward(self, x):\n",
        "    return(self.l2(self.l1(x)))"
      ],
      "execution_count": 0,
      "outputs": []
    },
    {
      "cell_type": "code",
      "metadata": {
        "id": "PU000Oiv0ezi",
        "colab_type": "code",
        "outputId": "d73aa3dc-a95b-4c29-8f9d-54131983a968",
        "colab": {
          "base_uri": "https://localhost:8080/",
          "height": 51
        }
      },
      "source": [
        "model().forward(Tensor(40))"
      ],
      "execution_count": 0,
      "outputs": [
        {
          "output_type": "execute_result",
          "data": {
            "text/plain": [
              "tensor([ 0.0382,  0.0881,  0.0685, -0.0065, -0.0288, -0.1310,  0.1076, -0.0007,\n",
              "         0.1658,  0.0477], grad_fn=<AddBackward0>)"
            ]
          },
          "metadata": {
            "tags": []
          },
          "execution_count": 19
        }
      ]
    },
    {
      "cell_type": "markdown",
      "metadata": {
        "id": "Sq84bxoB07fC",
        "colab_type": "text"
      },
      "source": [
        "How does it change?"
      ]
    },
    {
      "cell_type": "code",
      "metadata": {
        "id": "vWV8rqqE09cf",
        "colab_type": "code",
        "colab": {}
      },
      "source": [
        "class model(nn.Module):\n",
        "  def __init__(self):\n",
        "    super().__init__() # Compatability helper\n",
        "    self.l1 = nn.Linear(nv, 10)\n",
        "  def forward(self, x):\n",
        "    return(self.l1(x))"
      ],
      "execution_count": 0,
      "outputs": []
    },
    {
      "cell_type": "code",
      "metadata": {
        "id": "fddxagZw1C8g",
        "colab_type": "code",
        "outputId": "cde8b98a-9ffd-45e6-aeaa-e8cabe0227a1",
        "colab": {
          "base_uri": "https://localhost:8080/",
          "height": 51
        }
      },
      "source": [
        "model().forward(Tensor(40))"
      ],
      "execution_count": 0,
      "outputs": [
        {
          "output_type": "execute_result",
          "data": {
            "text/plain": [
              "tensor([ 0.1197,  0.0008,  0.1412,  0.0399, -0.0981, -0.0166, -0.0311,  0.0912,\n",
              "        -0.1451, -0.0644], grad_fn=<AddBackward0>)"
            ]
          },
          "metadata": {
            "tags": []
          },
          "execution_count": 21
        }
      ]
    },
    {
      "cell_type": "markdown",
      "metadata": {
        "id": "d9jMh9_e6Q7W",
        "colab_type": "text"
      },
      "source": [
        "# A Basic Fully Connected Model\n",
        "\n",
        "A convolutional model is only connected to the next few layers, wheras a fully connected model, each layer is connected. 'Memory'."
      ]
    },
    {
      "cell_type": "code",
      "metadata": {
        "id": "dT3bbCjO6L_8",
        "colab_type": "code",
        "colab": {}
      },
      "source": [
        "data = src.databunch(bs=bs, bptt=3)"
      ],
      "execution_count": 0,
      "outputs": []
    },
    {
      "cell_type": "code",
      "metadata": {
        "id": "6P0HAI4N6jyG",
        "colab_type": "code",
        "outputId": "dd4d045e-7124-4c76-93d2-da359d214cd7",
        "colab": {
          "base_uri": "https://localhost:8080/",
          "height": 34
        }
      },
      "source": [
        "x,y = data.one_batch()\n",
        "x.shape, y.shape"
      ],
      "execution_count": 0,
      "outputs": [
        {
          "output_type": "execute_result",
          "data": {
            "text/plain": [
              "(torch.Size([64, 3]), torch.Size([64, 3]))"
            ]
          },
          "metadata": {
            "tags": []
          },
          "execution_count": 69
        }
      ]
    },
    {
      "cell_type": "markdown",
      "metadata": {
        "id": "lAbZwnrb1inv",
        "colab_type": "text"
      },
      "source": [
        "Let `nv` to be inputs, and `nh` to be the size of our hidden layer"
      ]
    },
    {
      "cell_type": "code",
      "metadata": {
        "id": "bIo0xA9m6myx",
        "colab_type": "code",
        "outputId": "771d9385-4c48-4ce5-d324-617b169d472f",
        "colab": {
          "base_uri": "https://localhost:8080/",
          "height": 34
        }
      },
      "source": [
        "nv = len(v.itos); nv"
      ],
      "execution_count": 0,
      "outputs": [
        {
          "output_type": "execute_result",
          "data": {
            "text/plain": [
              "40"
            ]
          },
          "metadata": {
            "tags": []
          },
          "execution_count": 70
        }
      ]
    },
    {
      "cell_type": "code",
      "metadata": {
        "id": "xOre4njn6spg",
        "colab_type": "code",
        "colab": {}
      },
      "source": [
        "nh = 64"
      ],
      "execution_count": 0,
      "outputs": []
    },
    {
      "cell_type": "markdown",
      "metadata": {
        "id": "THCWotx06xgH",
        "colab_type": "text"
      },
      "source": [
        "Let's make a loss function and metric"
      ]
    },
    {
      "cell_type": "code",
      "metadata": {
        "id": "7WJopU4n6zit",
        "colab_type": "code",
        "colab": {}
      },
      "source": [
        "def loss4(input, targ): return F.cross_entropy(input, targ[:,-1])\n",
        "def acc4(input, targ): return accuracy(input, targ[:,-1])"
      ],
      "execution_count": 0,
      "outputs": []
    },
    {
      "cell_type": "markdown",
      "metadata": {
        "id": "WtJm-MX77X4e",
        "colab_type": "text"
      },
      "source": [
        "And now our model, which will predict word 4 using words 1, 2, and 3\n",
        "\n",
        "![alt text](https://github.com/hiromis/notes/raw/master/lesson7/49.png)"
      ]
    },
    {
      "cell_type": "code",
      "metadata": {
        "id": "tS1S7-TD_HOS",
        "colab_type": "code",
        "outputId": "a6942ecb-afdc-4417-a256-cdb9a68e5a51",
        "colab": {
          "base_uri": "https://localhost:8080/",
          "height": 34
        }
      },
      "source": [
        "nv, nh"
      ],
      "execution_count": 0,
      "outputs": [
        {
          "output_type": "execute_result",
          "data": {
            "text/plain": [
              "(40, 64)"
            ]
          },
          "metadata": {
            "tags": []
          },
          "execution_count": 38
        }
      ]
    },
    {
      "cell_type": "code",
      "metadata": {
        "id": "0FOmVhRw6u24",
        "colab_type": "code",
        "colab": {}
      },
      "source": [
        "class Model0(nn.Module):\n",
        "  def __init__(self):\n",
        "    super().__init__()\n",
        "    self.i_h = nn.Embedding(nv, nh) # <----- 1, green arrow\n",
        "    self.h_h = nn.Linear(nh, nh)    # <----- 2, orange arrow\n",
        "    self.h_o = nn.Linear(nh,nv)     # <----- 3, blue arrow\n",
        "    self.bn = nn.BatchNorm1d(nh)    # <----- 4\n",
        "    \n",
        "  def forward(self, x):\n",
        "    h = self.bn(F.relu(self.h_h(self.i_h(x[:,0])))) # <---- 1, 2, 4\n",
        "    if x.shape[0]>1:\n",
        "      h += self.i_h(x[:,1])               # <---- 1\n",
        "      h = self.bn(F.relu(self.h_h(h)))  # <---- 2, 4\n",
        "    if x.shape[0]>2:\n",
        "      h += self.i_h(x[:,2])               # <---- 1\n",
        "      h = self.bn(F.relu(self.h_h(h)))  # <---- 2, 4\n",
        "    return self.h_o(h)                  # <---- 3"
      ],
      "execution_count": 0,
      "outputs": []
    },
    {
      "cell_type": "code",
      "metadata": {
        "id": "UakfWHB28zPx",
        "colab_type": "code",
        "outputId": "352a3d5b-b2f7-462a-f16c-0d7d61363a1c",
        "colab": {
          "base_uri": "https://localhost:8080/",
          "height": 119
        }
      },
      "source": [
        "Model0()"
      ],
      "execution_count": 0,
      "outputs": [
        {
          "output_type": "execute_result",
          "data": {
            "text/plain": [
              "Model0(\n",
              "  (i_h): Embedding(40, 64)\n",
              "  (h_h): Linear(in_features=64, out_features=64, bias=True)\n",
              "  (h_o): Linear(in_features=64, out_features=40, bias=True)\n",
              "  (bn): BatchNorm1d(64, eps=1e-05, momentum=0.1, affine=True, track_running_stats=True)\n",
              ")"
            ]
          },
          "metadata": {
            "tags": []
          },
          "execution_count": 74
        }
      ]
    },
    {
      "cell_type": "code",
      "metadata": {
        "id": "LgEXK8QJ805P",
        "colab_type": "code",
        "colab": {}
      },
      "source": [
        "learn = Learner(data, Model0(), loss_func=loss4, metrics=acc4)"
      ],
      "execution_count": 0,
      "outputs": []
    },
    {
      "cell_type": "code",
      "metadata": {
        "id": "TmYLKZVu87sf",
        "colab_type": "code",
        "outputId": "ab03d30c-5543-4d9c-a979-895ab894cd50",
        "colab": {
          "base_uri": "https://localhost:8080/",
          "height": 235
        }
      },
      "source": [
        "learn.fit_one_cycle(6, 1e-4)"
      ],
      "execution_count": 0,
      "outputs": [
        {
          "output_type": "display_data",
          "data": {
            "text/html": [
              "<table border=\"1\" class=\"dataframe\">\n",
              "  <thead>\n",
              "    <tr style=\"text-align: left;\">\n",
              "      <th>epoch</th>\n",
              "      <th>train_loss</th>\n",
              "      <th>valid_loss</th>\n",
              "      <th>acc4</th>\n",
              "      <th>time</th>\n",
              "    </tr>\n",
              "  </thead>\n",
              "  <tbody>\n",
              "    <tr>\n",
              "      <td>0</td>\n",
              "      <td>3.584361</td>\n",
              "      <td>3.643630</td>\n",
              "      <td>0.097426</td>\n",
              "      <td>00:01</td>\n",
              "    </tr>\n",
              "    <tr>\n",
              "      <td>1</td>\n",
              "      <td>3.066797</td>\n",
              "      <td>3.174392</td>\n",
              "      <td>0.339154</td>\n",
              "      <td>00:01</td>\n",
              "    </tr>\n",
              "    <tr>\n",
              "      <td>2</td>\n",
              "      <td>2.518950</td>\n",
              "      <td>2.691588</td>\n",
              "      <td>0.448759</td>\n",
              "      <td>00:01</td>\n",
              "    </tr>\n",
              "    <tr>\n",
              "      <td>3</td>\n",
              "      <td>2.197248</td>\n",
              "      <td>2.422778</td>\n",
              "      <td>0.454274</td>\n",
              "      <td>00:01</td>\n",
              "    </tr>\n",
              "    <tr>\n",
              "      <td>4</td>\n",
              "      <td>2.065464</td>\n",
              "      <td>2.328205</td>\n",
              "      <td>0.457950</td>\n",
              "      <td>00:01</td>\n",
              "    </tr>\n",
              "    <tr>\n",
              "      <td>5</td>\n",
              "      <td>2.037472</td>\n",
              "      <td>2.315218</td>\n",
              "      <td>0.458180</td>\n",
              "      <td>00:01</td>\n",
              "    </tr>\n",
              "  </tbody>\n",
              "</table>"
            ],
            "text/plain": [
              "<IPython.core.display.HTML object>"
            ]
          },
          "metadata": {
            "tags": []
          }
        }
      ]
    },
    {
      "cell_type": "markdown",
      "metadata": {
        "id": "k2Mjn-TX_meh",
        "colab_type": "text"
      },
      "source": [
        "## Same mode, but with a loop"
      ]
    },
    {
      "cell_type": "code",
      "metadata": {
        "id": "sN85egzr89vX",
        "colab_type": "code",
        "colab": {}
      },
      "source": [
        "class Model1(nn.Module):\n",
        "  def __init__(self):\n",
        "    super().__init__()\n",
        "    self.i_h = nn.Embedding(nv, nh) # <----- 1, green arrow\n",
        "    self.h_h = nn.Linear(nh, nh)    # <----- 2, orange arrow\n",
        "    self.h_o = nn.Linear(nh,nv)     # <----- 3, blue arrow\n",
        "    self.bn = nn.BatchNorm1d(nh)    # <----- 4\n",
        "    \n",
        "  def forward(self, x):\n",
        "    h = torch.zeros(x.shape[0], nh).to(device=x.device)\n",
        "    for i in range(x.shape[1]):\n",
        "      h += self.i_h(x[:,i])\n",
        "      h = self.bn(F.relu(self.h_h(h)))\n",
        "    return self.h_o(h)"
      ],
      "execution_count": 0,
      "outputs": []
    },
    {
      "cell_type": "code",
      "metadata": {
        "id": "oTQ9I0Q4AJQB",
        "colab_type": "code",
        "colab": {}
      },
      "source": [
        "learn = Learner(data, Model1(), loss_func=loss4, metrics=acc4)"
      ],
      "execution_count": 0,
      "outputs": []
    },
    {
      "cell_type": "code",
      "metadata": {
        "id": "kBrhSUaAAO1R",
        "colab_type": "code",
        "outputId": "ee660d16-ce7a-4bb1-b31e-6b59cc2e1507",
        "colab": {
          "base_uri": "https://localhost:8080/",
          "height": 235
        }
      },
      "source": [
        "learn.fit_one_cycle(6, 1e-4)"
      ],
      "execution_count": 0,
      "outputs": [
        {
          "output_type": "display_data",
          "data": {
            "text/html": [
              "<table border=\"1\" class=\"dataframe\">\n",
              "  <thead>\n",
              "    <tr style=\"text-align: left;\">\n",
              "      <th>epoch</th>\n",
              "      <th>train_loss</th>\n",
              "      <th>valid_loss</th>\n",
              "      <th>acc4</th>\n",
              "      <th>time</th>\n",
              "    </tr>\n",
              "  </thead>\n",
              "  <tbody>\n",
              "    <tr>\n",
              "      <td>0</td>\n",
              "      <td>3.610184</td>\n",
              "      <td>3.554779</td>\n",
              "      <td>0.094899</td>\n",
              "      <td>00:01</td>\n",
              "    </tr>\n",
              "    <tr>\n",
              "      <td>1</td>\n",
              "      <td>3.146208</td>\n",
              "      <td>3.096071</td>\n",
              "      <td>0.338465</td>\n",
              "      <td>00:01</td>\n",
              "    </tr>\n",
              "    <tr>\n",
              "      <td>2</td>\n",
              "      <td>2.598369</td>\n",
              "      <td>2.626821</td>\n",
              "      <td>0.379596</td>\n",
              "      <td>00:01</td>\n",
              "    </tr>\n",
              "    <tr>\n",
              "      <td>3</td>\n",
              "      <td>2.259510</td>\n",
              "      <td>2.363997</td>\n",
              "      <td>0.417279</td>\n",
              "      <td>00:01</td>\n",
              "    </tr>\n",
              "    <tr>\n",
              "      <td>4</td>\n",
              "      <td>2.121799</td>\n",
              "      <td>2.263034</td>\n",
              "      <td>0.434053</td>\n",
              "      <td>00:01</td>\n",
              "    </tr>\n",
              "    <tr>\n",
              "      <td>5</td>\n",
              "      <td>2.092541</td>\n",
              "      <td>2.247800</td>\n",
              "      <td>0.434743</td>\n",
              "      <td>00:01</td>\n",
              "    </tr>\n",
              "  </tbody>\n",
              "</table>"
            ],
            "text/plain": [
              "<IPython.core.display.HTML object>"
            ]
          },
          "metadata": {
            "tags": []
          }
        }
      ]
    },
    {
      "cell_type": "markdown",
      "metadata": {
        "id": "6kq0yaczAbWR",
        "colab_type": "text"
      },
      "source": [
        "## Multi-fully connected model"
      ]
    },
    {
      "cell_type": "code",
      "metadata": {
        "id": "MkY4G6sEASRp",
        "colab_type": "code",
        "colab": {}
      },
      "source": [
        "data = src.databunch(bs=bs, bptt=20)"
      ],
      "execution_count": 0,
      "outputs": []
    },
    {
      "cell_type": "code",
      "metadata": {
        "id": "7LmooXkmAgFZ",
        "colab_type": "code",
        "outputId": "38337ce0-4d2f-4d69-9dac-c4d392850385",
        "colab": {
          "base_uri": "https://localhost:8080/",
          "height": 34
        }
      },
      "source": [
        "x,y = data.one_batch()\n",
        "x.shape,y.shape"
      ],
      "execution_count": 0,
      "outputs": [
        {
          "output_type": "execute_result",
          "data": {
            "text/plain": [
              "(torch.Size([64, 20]), torch.Size([64, 20]))"
            ]
          },
          "metadata": {
            "tags": []
          },
          "execution_count": 81
        }
      ]
    },
    {
      "cell_type": "code",
      "metadata": {
        "id": "9IA3kOAcAg_p",
        "colab_type": "code",
        "colab": {}
      },
      "source": [
        "class Model2(nn.Module):\n",
        "    def __init__(self):\n",
        "        super().__init__()\n",
        "        self.i_h = nn.Embedding(nv,nh)\n",
        "        self.h_h = nn.Linear(nh,nh)\n",
        "        self.h_o = nn.Linear(nh,nv)\n",
        "        self.bn = nn.BatchNorm1d(nh)\n",
        "        \n",
        "    def forward(self, x):\n",
        "        h = torch.zeros(x.shape[0], nh).to(device=x.device)\n",
        "        res = []\n",
        "        for i in range(x.shape[1]):\n",
        "            h = h + self.i_h(x[:,i])\n",
        "            h = F.relu(self.h_h(h))\n",
        "            res.append(self.h_o(self.bn(h)))\n",
        "        return torch.stack(res, dim=1)"
      ],
      "execution_count": 0,
      "outputs": []
    },
    {
      "cell_type": "code",
      "metadata": {
        "id": "opO5CwBFAjVJ",
        "colab_type": "code",
        "colab": {}
      },
      "source": [
        "learn = Learner(data, Model2(), metrics=accuracy)"
      ],
      "execution_count": 0,
      "outputs": []
    },
    {
      "cell_type": "code",
      "metadata": {
        "id": "Cq-3Yz32Ankx",
        "colab_type": "code",
        "outputId": "32bc7fab-53dc-4b0e-84be-51210c4a58d2",
        "colab": {
          "base_uri": "https://localhost:8080/",
          "height": 359
        }
      },
      "source": [
        "learn.fit_one_cycle(10, 1e-4, pct_start=0.1)"
      ],
      "execution_count": 0,
      "outputs": [
        {
          "output_type": "display_data",
          "data": {
            "text/html": [
              "<table border=\"1\" class=\"dataframe\">\n",
              "  <thead>\n",
              "    <tr style=\"text-align: left;\">\n",
              "      <th>epoch</th>\n",
              "      <th>train_loss</th>\n",
              "      <th>valid_loss</th>\n",
              "      <th>accuracy</th>\n",
              "      <th>time</th>\n",
              "    </tr>\n",
              "  </thead>\n",
              "  <tbody>\n",
              "    <tr>\n",
              "      <td>0</td>\n",
              "      <td>3.729914</td>\n",
              "      <td>3.671241</td>\n",
              "      <td>0.038636</td>\n",
              "      <td>00:00</td>\n",
              "    </tr>\n",
              "    <tr>\n",
              "      <td>1</td>\n",
              "      <td>3.619103</td>\n",
              "      <td>3.557339</td>\n",
              "      <td>0.084162</td>\n",
              "      <td>00:00</td>\n",
              "    </tr>\n",
              "    <tr>\n",
              "      <td>2</td>\n",
              "      <td>3.479878</td>\n",
              "      <td>3.441949</td>\n",
              "      <td>0.168608</td>\n",
              "      <td>00:00</td>\n",
              "    </tr>\n",
              "    <tr>\n",
              "      <td>3</td>\n",
              "      <td>3.335397</td>\n",
              "      <td>3.338587</td>\n",
              "      <td>0.235014</td>\n",
              "      <td>00:00</td>\n",
              "    </tr>\n",
              "    <tr>\n",
              "      <td>4</td>\n",
              "      <td>3.203775</td>\n",
              "      <td>3.256569</td>\n",
              "      <td>0.279190</td>\n",
              "      <td>00:00</td>\n",
              "    </tr>\n",
              "    <tr>\n",
              "      <td>5</td>\n",
              "      <td>3.095800</td>\n",
              "      <td>3.195556</td>\n",
              "      <td>0.343111</td>\n",
              "      <td>00:00</td>\n",
              "    </tr>\n",
              "    <tr>\n",
              "      <td>6</td>\n",
              "      <td>3.014856</td>\n",
              "      <td>3.155470</td>\n",
              "      <td>0.378764</td>\n",
              "      <td>00:00</td>\n",
              "    </tr>\n",
              "    <tr>\n",
              "      <td>7</td>\n",
              "      <td>2.959642</td>\n",
              "      <td>3.133752</td>\n",
              "      <td>0.399787</td>\n",
              "      <td>00:00</td>\n",
              "    </tr>\n",
              "    <tr>\n",
              "      <td>8</td>\n",
              "      <td>2.926201</td>\n",
              "      <td>3.125398</td>\n",
              "      <td>0.405966</td>\n",
              "      <td>00:00</td>\n",
              "    </tr>\n",
              "    <tr>\n",
              "      <td>9</td>\n",
              "      <td>2.908853</td>\n",
              "      <td>3.124154</td>\n",
              "      <td>0.406889</td>\n",
              "      <td>00:00</td>\n",
              "    </tr>\n",
              "  </tbody>\n",
              "</table>"
            ],
            "text/plain": [
              "<IPython.core.display.HTML object>"
            ]
          },
          "metadata": {
            "tags": []
          }
        }
      ]
    },
    {
      "cell_type": "markdown",
      "metadata": {
        "id": "Y0xHJrW6BHZI",
        "colab_type": "text"
      },
      "source": [
        "## Maintain the current state (start of recurrance/memory)"
      ]
    },
    {
      "cell_type": "code",
      "metadata": {
        "id": "Bo7ZSkeHAqyZ",
        "colab_type": "code",
        "colab": {}
      },
      "source": [
        "class Model3(nn.Module):\n",
        "    def __init__(self):\n",
        "        super().__init__()\n",
        "        self.i_h = nn.Embedding(nv,nh)\n",
        "        self.h_h = nn.Linear(nh,nh)\n",
        "        self.h_o = nn.Linear(nh,nv)\n",
        "        self.bn = nn.BatchNorm1d(nh)\n",
        "        self.h = torch.zeros(bs, nh).cuda()\n",
        "        \n",
        "    def forward(self, x):\n",
        "        res = []\n",
        "        h = self.h\n",
        "        for i in range(x.shape[1]):\n",
        "            h = h + self.i_h(x[:,i])\n",
        "            h = F.relu(self.h_h(h))\n",
        "            res.append(self.bn(h))\n",
        "        self.h = h.detach()\n",
        "        res = torch.stack(res, dim=1)\n",
        "        res = self.h_o(res)\n",
        "        return res"
      ],
      "execution_count": 0,
      "outputs": []
    },
    {
      "cell_type": "code",
      "metadata": {
        "id": "2ob5Py9OBM8A",
        "colab_type": "code",
        "colab": {}
      },
      "source": [
        "learn = Learner(data, Model3(), metrics=accuracy)"
      ],
      "execution_count": 0,
      "outputs": []
    },
    {
      "cell_type": "code",
      "metadata": {
        "id": "Z43xepnMBbLg",
        "colab_type": "code",
        "outputId": "037a513d-7ef6-4829-937f-3137281dde43",
        "colab": {
          "base_uri": "https://localhost:8080/",
          "height": 119
        }
      },
      "source": [
        "learn.model"
      ],
      "execution_count": 0,
      "outputs": [
        {
          "output_type": "execute_result",
          "data": {
            "text/plain": [
              "Model3(\n",
              "  (i_h): Embedding(40, 64)\n",
              "  (h_h): Linear(in_features=64, out_features=64, bias=True)\n",
              "  (h_o): Linear(in_features=64, out_features=40, bias=True)\n",
              "  (bn): BatchNorm1d(64, eps=1e-05, momentum=0.1, affine=True, track_running_stats=True)\n",
              ")"
            ]
          },
          "metadata": {
            "tags": []
          },
          "execution_count": 89
        }
      ]
    },
    {
      "cell_type": "code",
      "metadata": {
        "id": "nLhSdYVUBQ3g",
        "colab_type": "code",
        "outputId": "7646d639-658c-4bc6-b3f0-ffbf397666bd",
        "colab": {
          "base_uri": "https://localhost:8080/",
          "height": 669
        }
      },
      "source": [
        "learn.fit_one_cycle(20, 3e-3)"
      ],
      "execution_count": 0,
      "outputs": [
        {
          "output_type": "display_data",
          "data": {
            "text/html": [
              "<table border=\"1\" class=\"dataframe\">\n",
              "  <thead>\n",
              "    <tr style=\"text-align: left;\">\n",
              "      <th>epoch</th>\n",
              "      <th>train_loss</th>\n",
              "      <th>valid_loss</th>\n",
              "      <th>accuracy</th>\n",
              "      <th>time</th>\n",
              "    </tr>\n",
              "  </thead>\n",
              "  <tbody>\n",
              "    <tr>\n",
              "      <td>0</td>\n",
              "      <td>3.625595</td>\n",
              "      <td>3.501460</td>\n",
              "      <td>0.062713</td>\n",
              "      <td>00:00</td>\n",
              "    </tr>\n",
              "    <tr>\n",
              "      <td>1</td>\n",
              "      <td>3.276977</td>\n",
              "      <td>2.903179</td>\n",
              "      <td>0.401776</td>\n",
              "      <td>00:00</td>\n",
              "    </tr>\n",
              "    <tr>\n",
              "      <td>2</td>\n",
              "      <td>2.611589</td>\n",
              "      <td>2.015941</td>\n",
              "      <td>0.451349</td>\n",
              "      <td>00:00</td>\n",
              "    </tr>\n",
              "    <tr>\n",
              "      <td>3</td>\n",
              "      <td>2.016599</td>\n",
              "      <td>1.813454</td>\n",
              "      <td>0.390128</td>\n",
              "      <td>00:00</td>\n",
              "    </tr>\n",
              "    <tr>\n",
              "      <td>4</td>\n",
              "      <td>1.674391</td>\n",
              "      <td>1.760234</td>\n",
              "      <td>0.466335</td>\n",
              "      <td>00:00</td>\n",
              "    </tr>\n",
              "    <tr>\n",
              "      <td>5</td>\n",
              "      <td>1.459975</td>\n",
              "      <td>1.802815</td>\n",
              "      <td>0.487642</td>\n",
              "      <td>00:00</td>\n",
              "    </tr>\n",
              "    <tr>\n",
              "      <td>6</td>\n",
              "      <td>1.294104</td>\n",
              "      <td>1.805581</td>\n",
              "      <td>0.505753</td>\n",
              "      <td>00:00</td>\n",
              "    </tr>\n",
              "    <tr>\n",
              "      <td>7</td>\n",
              "      <td>1.144800</td>\n",
              "      <td>1.690800</td>\n",
              "      <td>0.527131</td>\n",
              "      <td>00:00</td>\n",
              "    </tr>\n",
              "    <tr>\n",
              "      <td>8</td>\n",
              "      <td>0.999956</td>\n",
              "      <td>1.662817</td>\n",
              "      <td>0.552060</td>\n",
              "      <td>00:00</td>\n",
              "    </tr>\n",
              "    <tr>\n",
              "      <td>9</td>\n",
              "      <td>0.864257</td>\n",
              "      <td>1.473552</td>\n",
              "      <td>0.578622</td>\n",
              "      <td>00:00</td>\n",
              "    </tr>\n",
              "    <tr>\n",
              "      <td>10</td>\n",
              "      <td>0.744122</td>\n",
              "      <td>1.530082</td>\n",
              "      <td>0.591335</td>\n",
              "      <td>00:00</td>\n",
              "    </tr>\n",
              "    <tr>\n",
              "      <td>11</td>\n",
              "      <td>0.644193</td>\n",
              "      <td>1.475865</td>\n",
              "      <td>0.608665</td>\n",
              "      <td>00:00</td>\n",
              "    </tr>\n",
              "    <tr>\n",
              "      <td>12</td>\n",
              "      <td>0.567793</td>\n",
              "      <td>1.489006</td>\n",
              "      <td>0.615838</td>\n",
              "      <td>00:00</td>\n",
              "    </tr>\n",
              "    <tr>\n",
              "      <td>13</td>\n",
              "      <td>0.511196</td>\n",
              "      <td>1.472765</td>\n",
              "      <td>0.631818</td>\n",
              "      <td>00:00</td>\n",
              "    </tr>\n",
              "    <tr>\n",
              "      <td>14</td>\n",
              "      <td>0.466892</td>\n",
              "      <td>1.492971</td>\n",
              "      <td>0.645312</td>\n",
              "      <td>00:00</td>\n",
              "    </tr>\n",
              "    <tr>\n",
              "      <td>15</td>\n",
              "      <td>0.442121</td>\n",
              "      <td>1.436796</td>\n",
              "      <td>0.642898</td>\n",
              "      <td>00:00</td>\n",
              "    </tr>\n",
              "    <tr>\n",
              "      <td>16</td>\n",
              "      <td>0.415276</td>\n",
              "      <td>1.424849</td>\n",
              "      <td>0.645170</td>\n",
              "      <td>00:00</td>\n",
              "    </tr>\n",
              "    <tr>\n",
              "      <td>17</td>\n",
              "      <td>0.397790</td>\n",
              "      <td>1.422490</td>\n",
              "      <td>0.646591</td>\n",
              "      <td>00:00</td>\n",
              "    </tr>\n",
              "    <tr>\n",
              "      <td>18</td>\n",
              "      <td>0.386512</td>\n",
              "      <td>1.438586</td>\n",
              "      <td>0.645810</td>\n",
              "      <td>00:00</td>\n",
              "    </tr>\n",
              "    <tr>\n",
              "      <td>19</td>\n",
              "      <td>0.380017</td>\n",
              "      <td>1.418991</td>\n",
              "      <td>0.648367</td>\n",
              "      <td>00:00</td>\n",
              "    </tr>\n",
              "  </tbody>\n",
              "</table>"
            ],
            "text/plain": [
              "<IPython.core.display.HTML object>"
            ]
          },
          "metadata": {
            "tags": []
          }
        }
      ]
    },
    {
      "cell_type": "markdown",
      "metadata": {
        "id": "IGTFvGClBWFz",
        "colab_type": "text"
      },
      "source": [
        "## nn.RNN\n",
        "\n",
        "\n",
        "\"Explaining the Vanishing Gradient Problem\n",
        "As you remember, the gradient descent algorithm finds the global minimum of the cost function that is going to be an optimal setup for the network.\n",
        "\n",
        "As you might also recall, information travels through the neural network from input neurons to the output neurons, while the error is calculated and propagated back through the network to update the weights.\n",
        "\n",
        "It works quite similarly for RNNs, but here we’ve got a little bit more going on.\n",
        "\n",
        "Firstly, information travels through time in RNNs, which means that information from previous time points is used as input for the next time points.\n",
        "Secondly, you can calculate the cost function, or your error, at each time point.\n",
        "\n",
        "Basically, during the training, your cost function compares your outcomes (red circles on the image below) to your desired output.\n",
        "\n",
        "As a result, you have these values throughout the time series, for every single one of these red circles.\"\n",
        "\n",
        "https://www.superdatascience.com/blogs/recurrent-neural-networks-rnn-the-vanishing-gradient-problem/\n",
        "![alt text](https://sds-platform-private.s3-us-east-2.amazonaws.com/uploads/31_blog_image_1.png) \n",
        "![alt text](https://sds-platform-private.s3-us-east-2.amazonaws.com/uploads/31_blog_image_2.png)\n",
        "\n"
      ]
    },
    {
      "cell_type": "markdown",
      "metadata": {
        "id": "O0kBjIB3Cprt",
        "colab_type": "text"
      },
      "source": [
        "Essentially, we are calculating so many gradients at one given time that either if there are too many (think we are dealing with a paragraph of text at a time) we explode.\n",
        "\n",
        "Too small or too few, it simply vainishes"
      ]
    },
    {
      "cell_type": "code",
      "metadata": {
        "id": "1z87LCZzBSTg",
        "colab_type": "code",
        "colab": {}
      },
      "source": [
        "nn.RNN??"
      ],
      "execution_count": 0,
      "outputs": []
    },
    {
      "cell_type": "code",
      "metadata": {
        "id": "6L-CpJXwBZGA",
        "colab_type": "code",
        "colab": {}
      },
      "source": [
        "class Model4(nn.Module):\n",
        "    def __init__(self):\n",
        "        super().__init__()\n",
        "        self.i_h = nn.Embedding(nv,nh)\n",
        "        self.rnn = nn.RNN(nh,nh, batch_first=True)\n",
        "        self.h_o = nn.Linear(nh,nv)\n",
        "        self.bn = BatchNorm1dFlat(nh)\n",
        "        self.h = torch.zeros(1, bs, nh).cuda()\n",
        "        \n",
        "    def forward(self, x):\n",
        "        res,h = self.rnn(self.i_h(x), self.h)\n",
        "        self.h = h.detach()\n",
        "        return self.h_o(self.bn(res))"
      ],
      "execution_count": 0,
      "outputs": []
    },
    {
      "cell_type": "code",
      "metadata": {
        "id": "9dILABdABgRC",
        "colab_type": "code",
        "outputId": "e160637a-f89b-42d1-c3d6-f58e42bcab1f",
        "colab": {
          "base_uri": "https://localhost:8080/",
          "height": 119
        }
      },
      "source": [
        "Model4()"
      ],
      "execution_count": 0,
      "outputs": [
        {
          "output_type": "execute_result",
          "data": {
            "text/plain": [
              "Model4(\n",
              "  (i_h): Embedding(40, 64)\n",
              "  (rnn): RNN(64, 64, batch_first=True)\n",
              "  (h_o): Linear(in_features=64, out_features=40, bias=True)\n",
              "  (bn): BatchNorm1dFlat(64, eps=1e-05, momentum=0.1, affine=True, track_running_stats=True)\n",
              ")"
            ]
          },
          "metadata": {
            "tags": []
          },
          "execution_count": 91
        }
      ]
    },
    {
      "cell_type": "code",
      "metadata": {
        "id": "6VZjaFh3Bg_S",
        "colab_type": "code",
        "colab": {}
      },
      "source": [
        "learn = Learner(data, Model4(), metrics=accuracy)"
      ],
      "execution_count": 0,
      "outputs": []
    },
    {
      "cell_type": "code",
      "metadata": {
        "id": "DctbnCD3BkSi",
        "colab_type": "code",
        "outputId": "2d0f87af-56ba-4b7d-f2b8-dffdf14feb57",
        "colab": {
          "base_uri": "https://localhost:8080/",
          "height": 669
        }
      },
      "source": [
        "learn.fit_one_cycle(20, 3e-3)"
      ],
      "execution_count": 0,
      "outputs": [
        {
          "output_type": "display_data",
          "data": {
            "text/html": [
              "<table border=\"1\" class=\"dataframe\">\n",
              "  <thead>\n",
              "    <tr style=\"text-align: left;\">\n",
              "      <th>epoch</th>\n",
              "      <th>train_loss</th>\n",
              "      <th>valid_loss</th>\n",
              "      <th>accuracy</th>\n",
              "      <th>time</th>\n",
              "    </tr>\n",
              "  </thead>\n",
              "  <tbody>\n",
              "    <tr>\n",
              "      <td>0</td>\n",
              "      <td>3.613025</td>\n",
              "      <td>3.509639</td>\n",
              "      <td>0.220526</td>\n",
              "      <td>00:00</td>\n",
              "    </tr>\n",
              "    <tr>\n",
              "      <td>1</td>\n",
              "      <td>3.196244</td>\n",
              "      <td>2.706012</td>\n",
              "      <td>0.460938</td>\n",
              "      <td>00:00</td>\n",
              "    </tr>\n",
              "    <tr>\n",
              "      <td>2</td>\n",
              "      <td>2.503634</td>\n",
              "      <td>2.037579</td>\n",
              "      <td>0.444886</td>\n",
              "      <td>00:00</td>\n",
              "    </tr>\n",
              "    <tr>\n",
              "      <td>3</td>\n",
              "      <td>1.944358</td>\n",
              "      <td>1.839663</td>\n",
              "      <td>0.463139</td>\n",
              "      <td>00:00</td>\n",
              "    </tr>\n",
              "    <tr>\n",
              "      <td>4</td>\n",
              "      <td>1.598980</td>\n",
              "      <td>1.753945</td>\n",
              "      <td>0.476207</td>\n",
              "      <td>00:00</td>\n",
              "    </tr>\n",
              "    <tr>\n",
              "      <td>5</td>\n",
              "      <td>1.316993</td>\n",
              "      <td>1.680247</td>\n",
              "      <td>0.474787</td>\n",
              "      <td>00:00</td>\n",
              "    </tr>\n",
              "    <tr>\n",
              "      <td>6</td>\n",
              "      <td>1.104018</td>\n",
              "      <td>1.586872</td>\n",
              "      <td>0.512855</td>\n",
              "      <td>00:00</td>\n",
              "    </tr>\n",
              "    <tr>\n",
              "      <td>7</td>\n",
              "      <td>0.949063</td>\n",
              "      <td>1.635032</td>\n",
              "      <td>0.539489</td>\n",
              "      <td>00:00</td>\n",
              "    </tr>\n",
              "    <tr>\n",
              "      <td>8</td>\n",
              "      <td>0.822824</td>\n",
              "      <td>1.636205</td>\n",
              "      <td>0.548224</td>\n",
              "      <td>00:00</td>\n",
              "    </tr>\n",
              "    <tr>\n",
              "      <td>9</td>\n",
              "      <td>0.720250</td>\n",
              "      <td>1.688482</td>\n",
              "      <td>0.563423</td>\n",
              "      <td>00:00</td>\n",
              "    </tr>\n",
              "    <tr>\n",
              "      <td>10</td>\n",
              "      <td>0.627027</td>\n",
              "      <td>1.729375</td>\n",
              "      <td>0.574858</td>\n",
              "      <td>00:00</td>\n",
              "    </tr>\n",
              "    <tr>\n",
              "      <td>11</td>\n",
              "      <td>0.551595</td>\n",
              "      <td>1.716391</td>\n",
              "      <td>0.590554</td>\n",
              "      <td>00:00</td>\n",
              "    </tr>\n",
              "    <tr>\n",
              "      <td>12</td>\n",
              "      <td>0.490735</td>\n",
              "      <td>1.695473</td>\n",
              "      <td>0.603551</td>\n",
              "      <td>00:00</td>\n",
              "    </tr>\n",
              "    <tr>\n",
              "      <td>13</td>\n",
              "      <td>0.441239</td>\n",
              "      <td>1.651222</td>\n",
              "      <td>0.616477</td>\n",
              "      <td>00:00</td>\n",
              "    </tr>\n",
              "    <tr>\n",
              "      <td>14</td>\n",
              "      <td>0.403432</td>\n",
              "      <td>1.681454</td>\n",
              "      <td>0.615696</td>\n",
              "      <td>00:00</td>\n",
              "    </tr>\n",
              "    <tr>\n",
              "      <td>15</td>\n",
              "      <td>0.373261</td>\n",
              "      <td>1.685676</td>\n",
              "      <td>0.617827</td>\n",
              "      <td>00:00</td>\n",
              "    </tr>\n",
              "    <tr>\n",
              "      <td>16</td>\n",
              "      <td>0.350631</td>\n",
              "      <td>1.708791</td>\n",
              "      <td>0.618963</td>\n",
              "      <td>00:00</td>\n",
              "    </tr>\n",
              "    <tr>\n",
              "      <td>17</td>\n",
              "      <td>0.334261</td>\n",
              "      <td>1.709290</td>\n",
              "      <td>0.616974</td>\n",
              "      <td>00:00</td>\n",
              "    </tr>\n",
              "    <tr>\n",
              "      <td>18</td>\n",
              "      <td>0.323272</td>\n",
              "      <td>1.724716</td>\n",
              "      <td>0.618253</td>\n",
              "      <td>00:00</td>\n",
              "    </tr>\n",
              "    <tr>\n",
              "      <td>19</td>\n",
              "      <td>0.316673</td>\n",
              "      <td>1.708701</td>\n",
              "      <td>0.618324</td>\n",
              "      <td>00:00</td>\n",
              "    </tr>\n",
              "  </tbody>\n",
              "</table>"
            ],
            "text/plain": [
              "<IPython.core.display.HTML object>"
            ]
          },
          "metadata": {
            "tags": []
          }
        }
      ]
    },
    {
      "cell_type": "markdown",
      "metadata": {
        "id": "1VO46NkxBsdE",
        "colab_type": "text"
      },
      "source": [
        "## GRU\n",
        "\n",
        "Improved version of a standard RNN, which has a vanishing gradient issue, we use **update gates and reset gates**, which are two vectors that decide whether information should be passed to the output."
      ]
    },
    {
      "cell_type": "code",
      "metadata": {
        "id": "y3yAa--EBlXq",
        "colab_type": "code",
        "colab": {}
      },
      "source": [
        "class Model5(nn.Module):\n",
        "    def __init__(self):\n",
        "        super().__init__()\n",
        "        self.i_h = nn.Embedding(nv,nh)\n",
        "        self.rnn = nn.GRU(nh, nh, 2, batch_first=True)\n",
        "        self.h_o = nn.Linear(nh,nv)\n",
        "        self.bn = BatchNorm1dFlat(nh)\n",
        "        self.h = torch.zeros(2, bs, nh).cuda()\n",
        "        \n",
        "    def forward(self, x):\n",
        "        res,h = self.rnn(self.i_h(x), self.h)\n",
        "        self.h = h.detach()\n",
        "        return self.h_o(self.bn(res))"
      ],
      "execution_count": 0,
      "outputs": []
    },
    {
      "cell_type": "code",
      "metadata": {
        "id": "WLdPchrnB_Rv",
        "colab_type": "code",
        "outputId": "be141117-acf1-4508-adee-e2e783341c67",
        "colab": {
          "base_uri": "https://localhost:8080/",
          "height": 119
        }
      },
      "source": [
        "Model5()"
      ],
      "execution_count": 0,
      "outputs": [
        {
          "output_type": "execute_result",
          "data": {
            "text/plain": [
              "Model5(\n",
              "  (i_h): Embedding(40, 64)\n",
              "  (rnn): GRU(64, 64, num_layers=2, batch_first=True)\n",
              "  (h_o): Linear(in_features=64, out_features=40, bias=True)\n",
              "  (bn): BatchNorm1dFlat(64, eps=1e-05, momentum=0.1, affine=True, track_running_stats=True)\n",
              ")"
            ]
          },
          "metadata": {
            "tags": []
          },
          "execution_count": 95
        }
      ]
    },
    {
      "cell_type": "code",
      "metadata": {
        "id": "MtAZlVkYCA1n",
        "colab_type": "code",
        "colab": {}
      },
      "source": [
        "learn = Learner(data, Model5(), metrics=accuracy)"
      ],
      "execution_count": 0,
      "outputs": []
    },
    {
      "cell_type": "code",
      "metadata": {
        "id": "Xylv-ce5CBZf",
        "colab_type": "code",
        "outputId": "4545a718-bbef-4e5c-a1e1-c4348ec3d248",
        "colab": {
          "base_uri": "https://localhost:8080/",
          "height": 359
        }
      },
      "source": [
        "learn.fit_one_cycle(10, 1e-2)"
      ],
      "execution_count": 0,
      "outputs": [
        {
          "output_type": "display_data",
          "data": {
            "text/html": [
              "<table border=\"1\" class=\"dataframe\">\n",
              "  <thead>\n",
              "    <tr style=\"text-align: left;\">\n",
              "      <th>epoch</th>\n",
              "      <th>train_loss</th>\n",
              "      <th>valid_loss</th>\n",
              "      <th>accuracy</th>\n",
              "      <th>time</th>\n",
              "    </tr>\n",
              "  </thead>\n",
              "  <tbody>\n",
              "    <tr>\n",
              "      <td>0</td>\n",
              "      <td>2.964803</td>\n",
              "      <td>2.443228</td>\n",
              "      <td>0.455256</td>\n",
              "      <td>00:00</td>\n",
              "    </tr>\n",
              "    <tr>\n",
              "      <td>1</td>\n",
              "      <td>1.811684</td>\n",
              "      <td>1.526673</td>\n",
              "      <td>0.617827</td>\n",
              "      <td>00:00</td>\n",
              "    </tr>\n",
              "    <tr>\n",
              "      <td>2</td>\n",
              "      <td>0.945482</td>\n",
              "      <td>1.119839</td>\n",
              "      <td>0.793466</td>\n",
              "      <td>00:00</td>\n",
              "    </tr>\n",
              "    <tr>\n",
              "      <td>3</td>\n",
              "      <td>0.461102</td>\n",
              "      <td>1.088649</td>\n",
              "      <td>0.824432</td>\n",
              "      <td>00:00</td>\n",
              "    </tr>\n",
              "    <tr>\n",
              "      <td>4</td>\n",
              "      <td>0.230549</td>\n",
              "      <td>1.151060</td>\n",
              "      <td>0.828551</td>\n",
              "      <td>00:00</td>\n",
              "    </tr>\n",
              "    <tr>\n",
              "      <td>5</td>\n",
              "      <td>0.122105</td>\n",
              "      <td>1.052200</td>\n",
              "      <td>0.834588</td>\n",
              "      <td>00:00</td>\n",
              "    </tr>\n",
              "    <tr>\n",
              "      <td>6</td>\n",
              "      <td>0.067979</td>\n",
              "      <td>1.047116</td>\n",
              "      <td>0.836222</td>\n",
              "      <td>00:00</td>\n",
              "    </tr>\n",
              "    <tr>\n",
              "      <td>7</td>\n",
              "      <td>0.040585</td>\n",
              "      <td>1.099488</td>\n",
              "      <td>0.834801</td>\n",
              "      <td>00:00</td>\n",
              "    </tr>\n",
              "    <tr>\n",
              "      <td>8</td>\n",
              "      <td>0.025961</td>\n",
              "      <td>1.136753</td>\n",
              "      <td>0.834233</td>\n",
              "      <td>00:00</td>\n",
              "    </tr>\n",
              "    <tr>\n",
              "      <td>9</td>\n",
              "      <td>0.018535</td>\n",
              "      <td>1.131347</td>\n",
              "      <td>0.833594</td>\n",
              "      <td>00:00</td>\n",
              "    </tr>\n",
              "  </tbody>\n",
              "</table>"
            ],
            "text/plain": [
              "<IPython.core.display.HTML object>"
            ]
          },
          "metadata": {
            "tags": []
          }
        }
      ]
    },
    {
      "cell_type": "code",
      "metadata": {
        "id": "velRbtNACCqv",
        "colab_type": "code",
        "colab": {}
      },
      "source": [
        ""
      ],
      "execution_count": 0,
      "outputs": []
    }
  ]
}