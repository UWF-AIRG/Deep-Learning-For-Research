{
  "nbformat": 4,
  "nbformat_minor": 0,
  "metadata": {
    "colab": {
      "name": "Final Thoughts and Further Practice.ipynb",
      "version": "0.3.2",
      "provenance": []
    },
    "kernelspec": {
      "name": "python3",
      "display_name": "Python 3"
    }
  },
  "cells": [
    {
      "cell_type": "markdown",
      "metadata": {
        "id": "pUR2kjYnTcAH",
        "colab_type": "text"
      },
      "source": [
        "# Final Thoughts and Further Practice\n",
        "\n",
        "Ideas for further workshops:\n",
        "\n",
        "* Productionizing Models?\n",
        "* Tabular Models?\n",
        "\n",
        "In the github is a 'Practice' folder: [practice](https://github.com/UWF-AIRG/Practical-Deep-Learning-For-Coders/tree/master/Practice) where a few notebooks are stored containing setups in order to do practice problems.\n",
        "\n",
        "The problems are split up like so:\n",
        "\n",
        "**Tabular:**\n",
        "\n",
        "* Iris - Easy, \"The Iris Flowers Dataset involves predicting the flower species given measurements of iris flowers.\"\n",
        "* Wine - Moderate, \"This is a regression problem. There are 4,898 observations with 11 input variables and one output variable\"\n",
        "* Titanic - Hard, \"With this dataset, you will need to use to the best of your ability feature engineering in order to help figure out who survived the titanic.\"\n",
        "\n",
        "**Image Classification:**\n",
        "* Intel Image Classification - Moderate, \"This is image data of Natural Scenes around the world.\"\n",
        "\n",
        "**Image Segmentation:**\n",
        "* Kaggle: [SIIM ACR Pneumothorax Segmentation](https://www.kaggle.com/c/siim-acr-pneumothorax-segmentation/data)\n",
        "\n",
        "**NLP**\n",
        "* Kaggle: [Jigsaw Toxic Comment Classification Challange](https://www.kaggle.com/c/jigsaw-toxic-comment-classification-challenge)\n",
        "\n",
        "\n",
        "<h2> From Here:</h2>\n",
        "\n",
        "First and foremost, are you apart of the [forums](forums.fast.ai)? If not, you should be! There is plenty of reading material on here and is\n",
        "a wonderful community full of ML practitioners from very beginner to Jeremy-Howard level. Join, start reading and looking into some topics you want to do,\n",
        "and I guarentee you there's at least one post from one person who's interested in the same thing!\n",
        "\n",
        "Now, class-wise. You have a few options from here. You can call this enough, and you have the skills to do some cool things. If you want more,\n",
        "Fast.AI has even more courses:\n",
        "* [Practical Deep Learning for Coders](https://course.fast.ai/#) (has a few topics I could not cover, and goes into much more depth and complexity in them)\n",
        "* [Deep Learning from the Foundations](https://course.fast.ai/part2) **new and will be taught here in the Fall**\n",
        "* [Matrix Calculus for Deep Learning](https://explained.ai/matrix-calculus/index.html)\n",
        "* [Computational Linear Algebra](https://github.com/fastai/numerical-linear-algebra)\n",
        "* [Natural Langage Processing Course](https://github.com/fastai/course-nlp) **new**\n",
        "\n",
        "Also, Jeremy recommends you start blogging! Whatever work you do! Find a small project, do something, write it. Learn some chunk fo the library really well,\n",
        "write a detailed blog with what it does and how it works. It helps cement your knowledge of the subject and helps others in their understanding of it!\n",
        "\n"
      ]
    }
  ]
}