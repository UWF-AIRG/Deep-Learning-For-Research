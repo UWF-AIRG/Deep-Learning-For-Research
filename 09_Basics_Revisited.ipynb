{
  "nbformat": 4,
  "nbformat_minor": 0,
  "metadata": {
    "colab": {
      "name": "09_Basics_Revisited.ipynb",
      "version": "0.3.2",
      "provenance": []
    },
    "kernelspec": {
      "name": "python3",
      "display_name": "Python 3"
    },
    "accelerator": "GPU"
  },
  "cells": [
    {
      "cell_type": "code",
      "metadata": {
        "id": "6bAa3xPewu5G",
        "colab_type": "code",
        "colab": {}
      },
      "source": [
        "from fastai.tabular import *"
      ],
      "execution_count": 0,
      "outputs": []
    },
    {
      "cell_type": "code",
      "metadata": {
        "id": "S98ZR8xrxIlU",
        "colab_type": "code",
        "colab": {}
      },
      "source": [
        "path = untar_data(URLs.ADULT_SAMPLE)\n",
        "df = pd.read_csv(path/'adult.csv')"
      ],
      "execution_count": 0,
      "outputs": []
    },
    {
      "cell_type": "code",
      "metadata": {
        "id": "mDTIM7HGxN-Y",
        "colab_type": "code",
        "colab": {}
      },
      "source": [
        "dep_var = 'salary'\n",
        "cat_names = ['workclass', 'education', 'marital-status', 'occupation', 'relationship', 'race']\n",
        "cont_names = ['age', 'fnlwgt', 'education-num']\n",
        "procs = [FillMissing, Categorify, Normalize]"
      ],
      "execution_count": 0,
      "outputs": []
    },
    {
      "cell_type": "markdown",
      "metadata": {
        "id": "0I8ehmLdxSHu",
        "colab_type": "text"
      },
      "source": [
        "## Splitting"
      ]
    },
    {
      "cell_type": "code",
      "metadata": {
        "id": "t7xqcSTKxRp4",
        "colab_type": "code",
        "colab": {}
      },
      "source": [
        "from sklearn.model_selection import train_test_split"
      ],
      "execution_count": 0,
      "outputs": []
    },
    {
      "cell_type": "code",
      "metadata": {
        "id": "rgDiiHNOxX2s",
        "colab_type": "code",
        "colab": {}
      },
      "source": [
        "train, test = train_test_split(df, test_size=0.1)"
      ],
      "execution_count": 0,
      "outputs": []
    },
    {
      "cell_type": "code",
      "metadata": {
        "id": "ArW6mCKLxb6w",
        "colab_type": "code",
        "colab": {}
      },
      "source": [
        "data = (TabularList.from_df(train, path=path, cat_names=cat_names, \n",
        "                            cont_names=cont_names, procs=procs)\n",
        "                           .split_by_rand_pct(0.2)\n",
        "                           .label_from_df(cols=dep_var)\n",
        "                           .databunch())"
      ],
      "execution_count": 0,
      "outputs": []
    },
    {
      "cell_type": "code",
      "metadata": {
        "id": "V06VLNbOxnyA",
        "colab_type": "code",
        "colab": {}
      },
      "source": [
        "testing = (TabularList.from_df(test, path=path, cat_names=cat_names, \n",
        "                            cont_names=cont_names, procs=procs,\n",
        "                              processor = data.processor)\n",
        "                           .split_none()\n",
        "                           .label_from_df(cols=dep_var)\n",
        "                           .databunch())"
      ],
      "execution_count": 0,
      "outputs": []
    },
    {
      "cell_type": "markdown",
      "metadata": {
        "id": "oyJISZmayFu-",
        "colab_type": "text"
      },
      "source": [
        "## Train"
      ]
    },
    {
      "cell_type": "code",
      "metadata": {
        "id": "MTX1L-RZyBWK",
        "colab_type": "code",
        "colab": {}
      },
      "source": [
        "learn = tabular_learner(data, layers=[200,100], metrics=accuracy)"
      ],
      "execution_count": 0,
      "outputs": []
    },
    {
      "cell_type": "code",
      "metadata": {
        "id": "WUkmzQe4yK-_",
        "colab_type": "code",
        "colab": {
          "base_uri": "https://localhost:8080/",
          "height": 80
        },
        "outputId": "8b68d12a-34dd-483f-b964-e3bb3c21cf8b"
      },
      "source": [
        "learn.fit(1)"
      ],
      "execution_count": 9,
      "outputs": [
        {
          "output_type": "display_data",
          "data": {
            "text/html": [
              "<table border=\"1\" class=\"dataframe\">\n",
              "  <thead>\n",
              "    <tr style=\"text-align: left;\">\n",
              "      <th>epoch</th>\n",
              "      <th>train_loss</th>\n",
              "      <th>valid_loss</th>\n",
              "      <th>accuracy</th>\n",
              "      <th>time</th>\n",
              "    </tr>\n",
              "  </thead>\n",
              "  <tbody>\n",
              "    <tr>\n",
              "      <td>0</td>\n",
              "      <td>0.372707</td>\n",
              "      <td>0.353058</td>\n",
              "      <td>0.836007</td>\n",
              "      <td>00:04</td>\n",
              "    </tr>\n",
              "  </tbody>\n",
              "</table>"
            ],
            "text/plain": [
              "<IPython.core.display.HTML object>"
            ]
          },
          "metadata": {
            "tags": []
          }
        }
      ]
    },
    {
      "cell_type": "markdown",
      "metadata": {
        "id": "Hj0l6CcDyNkK",
        "colab_type": "text"
      },
      "source": [
        "## Feature Selection\n",
        "\n",
        "One thing I had wrong before: Feature Importance should be calculated using the **test** set. As such, we have a new function:"
      ]
    },
    {
      "cell_type": "code",
      "metadata": {
        "id": "l40fkNZMy7vn",
        "colab_type": "code",
        "colab": {}
      },
      "source": [
        "from tqdm import tqdm"
      ],
      "execution_count": 0,
      "outputs": []
    },
    {
      "cell_type": "code",
      "metadata": {
        "id": "18rVk8EPyMxk",
        "colab_type": "code",
        "colab": {}
      },
      "source": [
        "def myfeature_importance(learn:Learner, test:TabularDataBunch): \n",
        "    pd.options.mode.chained_assignment = None\n",
        "    # based on: https://medium.com/@mp.music93/neural-networks-feature-importance-with-fastai-5c393cf65815\n",
        "    data = learn.data.train_ds.x\n",
        "    cat_names = data.cat_names\n",
        "    cont_names = data.cont_names\n",
        "    loss0=np.array([learn.loss_func(learn.pred_batch(batch=(x,y.to(\"cpu\"))), y.to(\"cpu\")) for x,y in iter(test.train_dl)]).mean()\n",
        "    #The above gives us our ground truth for our validation set\n",
        "    fi=dict()\n",
        "    types=[cat_names, cont_names]\n",
        "    with tqdm(total=len(data.col_names)) as pbar:\n",
        "      for j, t in enumerate(types): # for all of cat_names and cont_names\n",
        "        for i, c in enumerate(t):\n",
        "          loss=[]\n",
        "          for x,y in (iter(learn.data.valid_dl)): # for all values in validation set\n",
        "            col=x[j][:,i] # select one column of tensors\n",
        "            idx = torch.randperm(col.nelement()) # generate a random tensor\n",
        "            x[j][:,i] = col.view(-1)[idx].view(col.size()) # replace the old tensor with a new one\n",
        "            y=y.to('cpu')\n",
        "            loss.append(learn.loss_func(learn.pred_batch(batch=(x,y)), y))\n",
        "          pbar.update(1)\n",
        "          fi[c]=np.array(loss).mean()-loss0 # average loss - overall loss. Higher number = greater loss?\n",
        "    d = sorted(fi.items(), key=lambda kv: kv[1], reverse=True)\n",
        "    \n",
        "    df = pd.DataFrame({'Variable': [l for l, v in d], 'Importance': np.log1p([v for l, v in d])})\n",
        "    df['Type'] = ''\n",
        "    for x in range(len(df)):\n",
        "      if df['Variable'].iloc[x] in cat_names:\n",
        "        df['Type'].iloc[x] = 'categorical'\n",
        "      if df['Variable'].iloc[x] in cont_names:\n",
        "        df['Type'].iloc[x] = 'continuous'\n",
        "    return df"
      ],
      "execution_count": 0,
      "outputs": []
    },
    {
      "cell_type": "code",
      "metadata": {
        "id": "eQKzlXzjyp6M",
        "colab_type": "code",
        "colab": {
          "base_uri": "https://localhost:8080/",
          "height": 376
        },
        "outputId": "fd34ae57-0977-44b5-b37d-4690b14dbcf2"
      },
      "source": [
        "myfeature_importance(learn, testing)"
      ],
      "execution_count": 16,
      "outputs": [
        {
          "output_type": "stream",
          "text": [
            "100%|██████████| 10/10 [00:06<00:00,  1.42it/s]\n"
          ],
          "name": "stderr"
        },
        {
          "output_type": "execute_result",
          "data": {
            "text/html": [
              "<div>\n",
              "<style scoped>\n",
              "    .dataframe tbody tr th:only-of-type {\n",
              "        vertical-align: middle;\n",
              "    }\n",
              "\n",
              "    .dataframe tbody tr th {\n",
              "        vertical-align: top;\n",
              "    }\n",
              "\n",
              "    .dataframe thead th {\n",
              "        text-align: right;\n",
              "    }\n",
              "</style>\n",
              "<table border=\"1\" class=\"dataframe\">\n",
              "  <thead>\n",
              "    <tr style=\"text-align: right;\">\n",
              "      <th></th>\n",
              "      <th>Variable</th>\n",
              "      <th>Importance</th>\n",
              "      <th>Type</th>\n",
              "    </tr>\n",
              "  </thead>\n",
              "  <tbody>\n",
              "    <tr>\n",
              "      <th>0</th>\n",
              "      <td>education-num</td>\n",
              "      <td>0.030869</td>\n",
              "      <td>continuous</td>\n",
              "    </tr>\n",
              "    <tr>\n",
              "      <th>1</th>\n",
              "      <td>marital-status</td>\n",
              "      <td>0.029844</td>\n",
              "      <td>categorical</td>\n",
              "    </tr>\n",
              "    <tr>\n",
              "      <th>2</th>\n",
              "      <td>age</td>\n",
              "      <td>0.018415</td>\n",
              "      <td>continuous</td>\n",
              "    </tr>\n",
              "    <tr>\n",
              "      <th>3</th>\n",
              "      <td>occupation</td>\n",
              "      <td>0.017222</td>\n",
              "      <td>categorical</td>\n",
              "    </tr>\n",
              "    <tr>\n",
              "      <th>4</th>\n",
              "      <td>relationship</td>\n",
              "      <td>0.013191</td>\n",
              "      <td>categorical</td>\n",
              "    </tr>\n",
              "    <tr>\n",
              "      <th>5</th>\n",
              "      <td>workclass</td>\n",
              "      <td>0.008279</td>\n",
              "      <td>categorical</td>\n",
              "    </tr>\n",
              "    <tr>\n",
              "      <th>6</th>\n",
              "      <td>education</td>\n",
              "      <td>0.006343</td>\n",
              "      <td>categorical</td>\n",
              "    </tr>\n",
              "    <tr>\n",
              "      <th>7</th>\n",
              "      <td>fnlwgt</td>\n",
              "      <td>0.005771</td>\n",
              "      <td>continuous</td>\n",
              "    </tr>\n",
              "    <tr>\n",
              "      <th>8</th>\n",
              "      <td>race</td>\n",
              "      <td>0.005666</td>\n",
              "      <td>categorical</td>\n",
              "    </tr>\n",
              "    <tr>\n",
              "      <th>9</th>\n",
              "      <td>education-num_na</td>\n",
              "      <td>0.005403</td>\n",
              "      <td>categorical</td>\n",
              "    </tr>\n",
              "  </tbody>\n",
              "</table>\n",
              "</div>"
            ],
            "text/plain": [
              "           Variable  Importance         Type\n",
              "0     education-num    0.030869   continuous\n",
              "1    marital-status    0.029844  categorical\n",
              "2               age    0.018415   continuous\n",
              "3        occupation    0.017222  categorical\n",
              "4      relationship    0.013191  categorical\n",
              "5         workclass    0.008279  categorical\n",
              "6         education    0.006343  categorical\n",
              "7            fnlwgt    0.005771   continuous\n",
              "8              race    0.005666  categorical\n",
              "9  education-num_na    0.005403  categorical"
            ]
          },
          "metadata": {
            "tags": []
          },
          "execution_count": 16
        }
      ]
    },
    {
      "cell_type": "markdown",
      "metadata": {
        "id": "b4_tz_pKzJJ3",
        "colab_type": "text"
      },
      "source": [
        "## Predictions"
      ]
    },
    {
      "cell_type": "code",
      "metadata": {
        "id": "j_SJewg5y6hw",
        "colab_type": "code",
        "colab": {
          "base_uri": "https://localhost:8080/",
          "height": 136
        },
        "outputId": "0a3c88ed-7728-4ea4-9b97-d3016ee284e8"
      },
      "source": [
        "learn.get_preds()"
      ],
      "execution_count": 17,
      "outputs": [
        {
          "output_type": "execute_result",
          "data": {
            "text/plain": [
              "[tensor([[0.9672, 0.0328],\n",
              "         [0.9921, 0.0079],\n",
              "         [0.6003, 0.3997],\n",
              "         ...,\n",
              "         [0.9840, 0.0160],\n",
              "         [0.8426, 0.1574],\n",
              "         [0.3330, 0.6670]]), tensor([0, 0, 0,  ..., 0, 0, 1])]"
            ]
          },
          "metadata": {
            "tags": []
          },
          "execution_count": 17
        }
      ]
    },
    {
      "cell_type": "code",
      "metadata": {
        "id": "fhT0sX8UzLbX",
        "colab_type": "code",
        "colab": {
          "base_uri": "https://localhost:8080/",
          "height": 136
        },
        "outputId": "fa3d19ca-3deb-43d5-e2b9-f54cada326b6"
      },
      "source": [
        "learn.get_preds(ds_type=DatasetType.Valid)"
      ],
      "execution_count": 19,
      "outputs": [
        {
          "output_type": "execute_result",
          "data": {
            "text/plain": [
              "[tensor([[0.9672, 0.0328],\n",
              "         [0.9921, 0.0079],\n",
              "         [0.6003, 0.3997],\n",
              "         ...,\n",
              "         [0.9840, 0.0160],\n",
              "         [0.8426, 0.1574],\n",
              "         [0.3330, 0.6670]]), tensor([0, 0, 0,  ..., 0, 0, 1])]"
            ]
          },
          "metadata": {
            "tags": []
          },
          "execution_count": 19
        }
      ]
    },
    {
      "cell_type": "code",
      "metadata": {
        "id": "PC4O5LelzS5e",
        "colab_type": "code",
        "colab": {
          "base_uri": "https://localhost:8080/",
          "height": 34
        },
        "outputId": "118da830-b46e-473e-b69f-d634313360f3"
      },
      "source": [
        "learn.predict(df.iloc[0])"
      ],
      "execution_count": 21,
      "outputs": [
        {
          "output_type": "execute_result",
          "data": {
            "text/plain": [
              "(Category >=50k, tensor(1), tensor([0.3669, 0.6331]))"
            ]
          },
          "metadata": {
            "tags": []
          },
          "execution_count": 21
        }
      ]
    },
    {
      "cell_type": "code",
      "metadata": {
        "id": "dVffJvWwzVv_",
        "colab_type": "code",
        "colab": {
          "base_uri": "https://localhost:8080/",
          "height": 34
        },
        "outputId": "d7d334ad-d4c7-48e8-ef07-153305f428f2"
      },
      "source": [
        "learn.validate()"
      ],
      "execution_count": 22,
      "outputs": [
        {
          "output_type": "execute_result",
          "data": {
            "text/plain": [
              "[0.35305777, tensor(0.8360)]"
            ]
          },
          "metadata": {
            "tags": []
          },
          "execution_count": 22
        }
      ]
    },
    {
      "cell_type": "markdown",
      "metadata": {
        "id": "l7AjQrPazZcT",
        "colab_type": "text"
      },
      "source": [
        "### On another labeled set revisited"
      ]
    },
    {
      "cell_type": "code",
      "metadata": {
        "id": "mlN_ocjHzX8-",
        "colab_type": "code",
        "colab": {
          "base_uri": "https://localhost:8080/",
          "height": 136
        },
        "outputId": "b4efda65-0c42-41e6-a83f-90f4f1ab7d45"
      },
      "source": [
        "learn.get_preds(testing.train_dl) ### WRONG"
      ],
      "execution_count": 23,
      "outputs": [
        {
          "output_type": "execute_result",
          "data": {
            "text/plain": [
              "[tensor([[1.9956e-01, 8.0044e-01],\n",
              "         [6.9816e-01, 3.0184e-01],\n",
              "         [9.4956e-01, 5.0437e-02],\n",
              "         ...,\n",
              "         [5.1113e-01, 4.8887e-01],\n",
              "         [9.9934e-01, 6.5816e-04],\n",
              "         [6.5955e-01, 3.4045e-01]]), tensor([0, 1, 0,  ..., 1, 0, 1])]"
            ]
          },
          "metadata": {
            "tags": []
          },
          "execution_count": 23
        }
      ]
    },
    {
      "cell_type": "code",
      "metadata": {
        "id": "DIETDMOPzf9s",
        "colab_type": "code",
        "colab": {}
      },
      "source": [
        "learn.data.valid_dl = testing.train_dl"
      ],
      "execution_count": 0,
      "outputs": []
    },
    {
      "cell_type": "code",
      "metadata": {
        "id": "bIl7f32Ozjpo",
        "colab_type": "code",
        "colab": {
          "base_uri": "https://localhost:8080/",
          "height": 34
        },
        "outputId": "63cf6d1d-81c7-425f-ce57-dd788da2e249"
      },
      "source": [
        "learn.validate()"
      ],
      "execution_count": 25,
      "outputs": [
        {
          "output_type": "execute_result",
          "data": {
            "text/plain": [
              "[0.34789792, tensor(0.8425)]"
            ]
          },
          "metadata": {
            "tags": []
          },
          "execution_count": 25
        }
      ]
    },
    {
      "cell_type": "code",
      "metadata": {
        "id": "Bn8-BHFPzkYg",
        "colab_type": "code",
        "colab": {
          "base_uri": "https://localhost:8080/",
          "height": 34
        },
        "outputId": "124d2eca-6e5a-4c50-dcf8-a5352aa2a89c"
      },
      "source": [
        "learn.get_preds()[1]"
      ],
      "execution_count": 26,
      "outputs": [
        {
          "output_type": "execute_result",
          "data": {
            "text/plain": [
              "tensor([0, 0, 0,  ..., 0, 0, 1])"
            ]
          },
          "metadata": {
            "tags": []
          },
          "execution_count": 26
        }
      ]
    },
    {
      "cell_type": "markdown",
      "metadata": {
        "id": "9_vij7WBzmws",
        "colab_type": "text"
      },
      "source": [
        "Each of these go to a mapping found here"
      ]
    },
    {
      "cell_type": "code",
      "metadata": {
        "id": "pZbWqEhQzl3d",
        "colab_type": "code",
        "colab": {
          "base_uri": "https://localhost:8080/",
          "height": 34
        },
        "outputId": "933f6259-9c6c-4322-a461-ab8c50cdd4fa"
      },
      "source": [
        "learn.data.c2i"
      ],
      "execution_count": 27,
      "outputs": [
        {
          "output_type": "execute_result",
          "data": {
            "text/plain": [
              "{'<50k': 0, '>=50k': 1}"
            ]
          },
          "metadata": {
            "tags": []
          },
          "execution_count": 27
        }
      ]
    }
  ]
}